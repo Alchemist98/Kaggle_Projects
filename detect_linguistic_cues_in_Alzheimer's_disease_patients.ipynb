{
  "nbformat": 4,
  "nbformat_minor": 0,
  "metadata": {
    "colab": {
      "name": "detect linguistic cues in Alzheimer's disease patients.ipynb",
      "provenance": [],
      "authorship_tag": "ABX9TyM478Q21RMR4Oyy4k4Aljgy",
      "include_colab_link": true
    },
    "kernelspec": {
      "name": "python3",
      "display_name": "Python 3"
    }
  },
  "cells": [
    {
      "cell_type": "markdown",
      "metadata": {
        "id": "view-in-github",
        "colab_type": "text"
      },
      "source": [
        "<a href=\"https://colab.research.google.com/github/Alchemist98/Kaggle_Projects/blob/master/detect_linguistic_cues_in_Alzheimer's_disease_patients.ipynb\" target=\"_parent\"><img src=\"https://colab.research.google.com/assets/colab-badge.svg\" alt=\"Open In Colab\"/></a>"
      ]
    },
    {
      "cell_type": "code",
      "metadata": {
        "id": "esRGVuP2wtGP",
        "colab_type": "code",
        "colab": {
          "base_uri": "https://localhost:8080/",
          "height": 68
        },
        "outputId": "0b45979d-b7c4-4423-cd04-124297233892"
      },
      "source": [
        "import pandas as pd\n",
        "import numpy as np\n",
        "import matplotlib.pyplot as plt\n",
        "import sklearn\n",
        "import nltk\n",
        "nltk.download('wordnet')"
      ],
      "execution_count": 122,
      "outputs": [
        {
          "output_type": "stream",
          "text": [
            "[nltk_data] Downloading package wordnet to /root/nltk_data...\n",
            "[nltk_data]   Package wordnet is already up-to-date!\n"
          ],
          "name": "stdout"
        },
        {
          "output_type": "execute_result",
          "data": {
            "text/plain": [
              "True"
            ]
          },
          "metadata": {
            "tags": []
          },
          "execution_count": 122
        }
      ]
    },
    {
      "cell_type": "code",
      "metadata": {
        "id": "i0V2hNrgxJS5",
        "colab_type": "code",
        "colab": {
          "base_uri": "https://localhost:8080/",
          "height": 419
        },
        "outputId": "896ce40e-29b5-4ed4-c306-48914fe467f1"
      },
      "source": [
        "dataframe = pd.read_csv('/content/final_data.csv')\n",
        "dataframe"
      ],
      "execution_count": 123,
      "outputs": [
        {
          "output_type": "execute_result",
          "data": {
            "text/html": [
              "<div>\n",
              "<style scoped>\n",
              "    .dataframe tbody tr th:only-of-type {\n",
              "        vertical-align: middle;\n",
              "    }\n",
              "\n",
              "    .dataframe tbody tr th {\n",
              "        vertical-align: top;\n",
              "    }\n",
              "\n",
              "    .dataframe thead th {\n",
              "        text-align: right;\n",
              "    }\n",
              "</style>\n",
              "<table border=\"1\" class=\"dataframe\">\n",
              "  <thead>\n",
              "    <tr style=\"text-align: right;\">\n",
              "      <th></th>\n",
              "      <th>Comments</th>\n",
              "      <th>AD</th>\n",
              "    </tr>\n",
              "  </thead>\n",
              "  <tbody>\n",
              "    <tr>\n",
              "      <th>0</th>\n",
              "      <td>i feel like you re always out and about laughs</td>\n",
              "      <td>0</td>\n",
              "    </tr>\n",
              "    <tr>\n",
              "      <th>1</th>\n",
              "      <td>when you were working</td>\n",
              "      <td>1</td>\n",
              "    </tr>\n",
              "    <tr>\n",
              "      <th>2</th>\n",
              "      <td>said you re here to take care of this resident...</td>\n",
              "      <td>0</td>\n",
              "    </tr>\n",
              "    <tr>\n",
              "      <th>3</th>\n",
              "      <td>oh yeah</td>\n",
              "      <td>1</td>\n",
              "    </tr>\n",
              "    <tr>\n",
              "      <th>4</th>\n",
              "      <td>yeah</td>\n",
              "      <td>0</td>\n",
              "    </tr>\n",
              "    <tr>\n",
              "      <th>...</th>\n",
              "      <td>...</td>\n",
              "      <td>...</td>\n",
              "    </tr>\n",
              "    <tr>\n",
              "      <th>3996</th>\n",
              "      <td>do you remember</td>\n",
              "      <td>0</td>\n",
              "    </tr>\n",
              "    <tr>\n",
              "      <th>3997</th>\n",
              "      <td>xxx got uh everything in there</td>\n",
              "      <td>1</td>\n",
              "    </tr>\n",
              "    <tr>\n",
              "      <th>3998</th>\n",
              "      <td>mhm</td>\n",
              "      <td>1</td>\n",
              "    </tr>\n",
              "    <tr>\n",
              "      <th>3999</th>\n",
              "      <td>oh really</td>\n",
              "      <td>0</td>\n",
              "    </tr>\n",
              "    <tr>\n",
              "      <th>4000</th>\n",
              "      <td>yeah two two boys and two girls i believe i had</td>\n",
              "      <td>1</td>\n",
              "    </tr>\n",
              "  </tbody>\n",
              "</table>\n",
              "<p>4001 rows × 2 columns</p>\n",
              "</div>"
            ],
            "text/plain": [
              "                                               Comments  AD\n",
              "0        i feel like you re always out and about laughs   0\n",
              "1                                 when you were working   1\n",
              "2     said you re here to take care of this resident...   0\n",
              "3                                               oh yeah   1\n",
              "4                                                  yeah   0\n",
              "...                                                 ...  ..\n",
              "3996                                    do you remember   0\n",
              "3997                     xxx got uh everything in there   1\n",
              "3998                                                mhm   1\n",
              "3999                                          oh really   0\n",
              "4000    yeah two two boys and two girls i believe i had   1\n",
              "\n",
              "[4001 rows x 2 columns]"
            ]
          },
          "metadata": {
            "tags": []
          },
          "execution_count": 123
        }
      ]
    },
    {
      "cell_type": "code",
      "metadata": {
        "id": "H-h0nPgYyYDR",
        "colab_type": "code",
        "colab": {}
      },
      "source": [
        "dataframe['Comments']=dataframe['Comments'].apply(str)"
      ],
      "execution_count": 124,
      "outputs": []
    },
    {
      "cell_type": "code",
      "metadata": {
        "id": "ri0eQuv2xPqF",
        "colab_type": "code",
        "colab": {
          "base_uri": "https://localhost:8080/",
          "height": 374
        },
        "outputId": "fe0ad5ce-bf29-43af-d5fc-1f91e1b7dcde"
      },
      "source": [
        "import re\n",
        "import nltk\n",
        "from nltk.corpus import stopwords\n",
        "from nltk.stem.wordnet import WordNetLemmatizer\n",
        "\n",
        "corpus = []\n",
        "\n",
        "for i in range(len(dataframe)):\n",
        "    # remove all symbols, keep only alphabets\n",
        "    utt = re.sub('[^a-zA-Z]',' ',dataframe['Comments'][i])\n",
        "    # convert to lowercase\n",
        "    utt = utt.lower()\n",
        "    # split into words\n",
        "    utt = utt.split()\n",
        "    # performing lemmatization\n",
        "    lem = WordNetLemmatizer()\n",
        "    utt = [lem.lemmatize(word) for word in utt]\n",
        "    # join back to form sentences\n",
        "    utt = ' '.join(utt)\n",
        "    # append to variable corpus\n",
        "    corpus.append(utt)\n",
        "\n",
        "corpus[:21]"
      ],
      "execution_count": 125,
      "outputs": [
        {
          "output_type": "execute_result",
          "data": {
            "text/plain": [
              "['i feel like you re always out and about laugh',\n",
              " 'when you were working',\n",
              " 'said you re here to take care of this resident you re not here',\n",
              " 'oh yeah',\n",
              " 'yeah',\n",
              " 'um what are they called',\n",
              " 'you are',\n",
              " 'and i hafta be some place in in fifteen minute',\n",
              " 'i agree',\n",
              " 'first place i i m not sposta fly',\n",
              " 'and uh it wasn t long he took u down to uh ohio there in ohio',\n",
              " 'but it made you more aware of what you were doing',\n",
              " 'i went back and i communicated with th em',\n",
              " 'i wa the only one that wa born here',\n",
              " 'and i wanna walk',\n",
              " 'took up so much room',\n",
              " 'mm yes',\n",
              " 'that s awesome',\n",
              " 'where do you keep your calendar',\n",
              " 'so that s what we do um it s our big treatment',\n",
              " 'that s good']"
            ]
          },
          "metadata": {
            "tags": []
          },
          "execution_count": 125
        }
      ]
    },
    {
      "cell_type": "code",
      "metadata": {
        "id": "Ap1Lokguxblb",
        "colab_type": "code",
        "colab": {
          "base_uri": "https://localhost:8080/",
          "height": 419
        },
        "outputId": "b2823835-2774-4aa5-c375-c82ddc881232"
      },
      "source": [
        "corpus = pd.DataFrame(data = corpus, columns = ['Comments'])\n",
        "corpus"
      ],
      "execution_count": 126,
      "outputs": [
        {
          "output_type": "execute_result",
          "data": {
            "text/html": [
              "<div>\n",
              "<style scoped>\n",
              "    .dataframe tbody tr th:only-of-type {\n",
              "        vertical-align: middle;\n",
              "    }\n",
              "\n",
              "    .dataframe tbody tr th {\n",
              "        vertical-align: top;\n",
              "    }\n",
              "\n",
              "    .dataframe thead th {\n",
              "        text-align: right;\n",
              "    }\n",
              "</style>\n",
              "<table border=\"1\" class=\"dataframe\">\n",
              "  <thead>\n",
              "    <tr style=\"text-align: right;\">\n",
              "      <th></th>\n",
              "      <th>Comments</th>\n",
              "    </tr>\n",
              "  </thead>\n",
              "  <tbody>\n",
              "    <tr>\n",
              "      <th>0</th>\n",
              "      <td>i feel like you re always out and about laugh</td>\n",
              "    </tr>\n",
              "    <tr>\n",
              "      <th>1</th>\n",
              "      <td>when you were working</td>\n",
              "    </tr>\n",
              "    <tr>\n",
              "      <th>2</th>\n",
              "      <td>said you re here to take care of this resident...</td>\n",
              "    </tr>\n",
              "    <tr>\n",
              "      <th>3</th>\n",
              "      <td>oh yeah</td>\n",
              "    </tr>\n",
              "    <tr>\n",
              "      <th>4</th>\n",
              "      <td>yeah</td>\n",
              "    </tr>\n",
              "    <tr>\n",
              "      <th>...</th>\n",
              "      <td>...</td>\n",
              "    </tr>\n",
              "    <tr>\n",
              "      <th>3996</th>\n",
              "      <td>do you remember</td>\n",
              "    </tr>\n",
              "    <tr>\n",
              "      <th>3997</th>\n",
              "      <td>xxx got uh everything in there</td>\n",
              "    </tr>\n",
              "    <tr>\n",
              "      <th>3998</th>\n",
              "      <td>mhm</td>\n",
              "    </tr>\n",
              "    <tr>\n",
              "      <th>3999</th>\n",
              "      <td>oh really</td>\n",
              "    </tr>\n",
              "    <tr>\n",
              "      <th>4000</th>\n",
              "      <td>yeah two two boy and two girl i believe i had</td>\n",
              "    </tr>\n",
              "  </tbody>\n",
              "</table>\n",
              "<p>4001 rows × 1 columns</p>\n",
              "</div>"
            ],
            "text/plain": [
              "                                               Comments\n",
              "0         i feel like you re always out and about laugh\n",
              "1                                 when you were working\n",
              "2     said you re here to take care of this resident...\n",
              "3                                               oh yeah\n",
              "4                                                  yeah\n",
              "...                                                 ...\n",
              "3996                                    do you remember\n",
              "3997                     xxx got uh everything in there\n",
              "3998                                                mhm\n",
              "3999                                          oh really\n",
              "4000      yeah two two boy and two girl i believe i had\n",
              "\n",
              "[4001 rows x 1 columns]"
            ]
          },
          "metadata": {
            "tags": []
          },
          "execution_count": 126
        }
      ]
    },
    {
      "cell_type": "code",
      "metadata": {
        "id": "1_DEM5yYy_y1",
        "colab_type": "code",
        "colab": {
          "base_uri": "https://localhost:8080/",
          "height": 419
        },
        "outputId": "2d48594a-55ad-417f-9790-17b7913a7e26"
      },
      "source": [
        "corpus['AD'] = dataframe['AD'].values\n",
        "corpus"
      ],
      "execution_count": 127,
      "outputs": [
        {
          "output_type": "execute_result",
          "data": {
            "text/html": [
              "<div>\n",
              "<style scoped>\n",
              "    .dataframe tbody tr th:only-of-type {\n",
              "        vertical-align: middle;\n",
              "    }\n",
              "\n",
              "    .dataframe tbody tr th {\n",
              "        vertical-align: top;\n",
              "    }\n",
              "\n",
              "    .dataframe thead th {\n",
              "        text-align: right;\n",
              "    }\n",
              "</style>\n",
              "<table border=\"1\" class=\"dataframe\">\n",
              "  <thead>\n",
              "    <tr style=\"text-align: right;\">\n",
              "      <th></th>\n",
              "      <th>Comments</th>\n",
              "      <th>AD</th>\n",
              "    </tr>\n",
              "  </thead>\n",
              "  <tbody>\n",
              "    <tr>\n",
              "      <th>0</th>\n",
              "      <td>i feel like you re always out and about laugh</td>\n",
              "      <td>0</td>\n",
              "    </tr>\n",
              "    <tr>\n",
              "      <th>1</th>\n",
              "      <td>when you were working</td>\n",
              "      <td>1</td>\n",
              "    </tr>\n",
              "    <tr>\n",
              "      <th>2</th>\n",
              "      <td>said you re here to take care of this resident...</td>\n",
              "      <td>0</td>\n",
              "    </tr>\n",
              "    <tr>\n",
              "      <th>3</th>\n",
              "      <td>oh yeah</td>\n",
              "      <td>1</td>\n",
              "    </tr>\n",
              "    <tr>\n",
              "      <th>4</th>\n",
              "      <td>yeah</td>\n",
              "      <td>0</td>\n",
              "    </tr>\n",
              "    <tr>\n",
              "      <th>...</th>\n",
              "      <td>...</td>\n",
              "      <td>...</td>\n",
              "    </tr>\n",
              "    <tr>\n",
              "      <th>3996</th>\n",
              "      <td>do you remember</td>\n",
              "      <td>0</td>\n",
              "    </tr>\n",
              "    <tr>\n",
              "      <th>3997</th>\n",
              "      <td>xxx got uh everything in there</td>\n",
              "      <td>1</td>\n",
              "    </tr>\n",
              "    <tr>\n",
              "      <th>3998</th>\n",
              "      <td>mhm</td>\n",
              "      <td>1</td>\n",
              "    </tr>\n",
              "    <tr>\n",
              "      <th>3999</th>\n",
              "      <td>oh really</td>\n",
              "      <td>0</td>\n",
              "    </tr>\n",
              "    <tr>\n",
              "      <th>4000</th>\n",
              "      <td>yeah two two boy and two girl i believe i had</td>\n",
              "      <td>1</td>\n",
              "    </tr>\n",
              "  </tbody>\n",
              "</table>\n",
              "<p>4001 rows × 2 columns</p>\n",
              "</div>"
            ],
            "text/plain": [
              "                                               Comments  AD\n",
              "0         i feel like you re always out and about laugh   0\n",
              "1                                 when you were working   1\n",
              "2     said you re here to take care of this resident...   0\n",
              "3                                               oh yeah   1\n",
              "4                                                  yeah   0\n",
              "...                                                 ...  ..\n",
              "3996                                    do you remember   0\n",
              "3997                     xxx got uh everything in there   1\n",
              "3998                                                mhm   1\n",
              "3999                                          oh really   0\n",
              "4000      yeah two two boy and two girl i believe i had   1\n",
              "\n",
              "[4001 rows x 2 columns]"
            ]
          },
          "metadata": {
            "tags": []
          },
          "execution_count": 127
        }
      ]
    },
    {
      "cell_type": "code",
      "metadata": {
        "id": "5zJVGTQuzAJK",
        "colab_type": "code",
        "colab": {
          "base_uri": "https://localhost:8080/",
          "height": 34
        },
        "outputId": "43e32f45-0ac5-4b3f-8935-9119ce65f0db"
      },
      "source": [
        "print(corpus.isna().sum().sum())"
      ],
      "execution_count": 128,
      "outputs": [
        {
          "output_type": "stream",
          "text": [
            "0\n"
          ],
          "name": "stdout"
        }
      ]
    },
    {
      "cell_type": "code",
      "metadata": {
        "id": "CJOeQ3mdzE7C",
        "colab_type": "code",
        "colab": {
          "base_uri": "https://localhost:8080/",
          "height": 34
        },
        "outputId": "631451ae-7884-449a-e60f-b7f15e1f656b"
      },
      "source": [
        "y = corpus.iloc[:,1].values\n",
        "y"
      ],
      "execution_count": 129,
      "outputs": [
        {
          "output_type": "execute_result",
          "data": {
            "text/plain": [
              "array([0, 1, 0, ..., 1, 0, 1])"
            ]
          },
          "metadata": {
            "tags": []
          },
          "execution_count": 129
        }
      ]
    },
    {
      "cell_type": "code",
      "metadata": {
        "id": "gTDojwWdzJqv",
        "colab_type": "code",
        "colab": {
          "base_uri": "https://localhost:8080/",
          "height": 1000
        },
        "outputId": "4f559c4d-c64f-4f53-c40b-0665152aeb82"
      },
      "source": [
        "corpus = corpus['Comments'].tolist()\n",
        "corpus"
      ],
      "execution_count": 130,
      "outputs": [
        {
          "output_type": "execute_result",
          "data": {
            "text/plain": [
              "['i feel like you re always out and about laugh',\n",
              " 'when you were working',\n",
              " 'said you re here to take care of this resident you re not here',\n",
              " 'oh yeah',\n",
              " 'yeah',\n",
              " 'um what are they called',\n",
              " 'you are',\n",
              " 'and i hafta be some place in in fifteen minute',\n",
              " 'i agree',\n",
              " 'first place i i m not sposta fly',\n",
              " 'and uh it wasn t long he took u down to uh ohio there in ohio',\n",
              " 'but it made you more aware of what you were doing',\n",
              " 'i went back and i communicated with th em',\n",
              " 'i wa the only one that wa born here',\n",
              " 'and i wanna walk',\n",
              " 'took up so much room',\n",
              " 'mm yes',\n",
              " 'that s awesome',\n",
              " 'where do you keep your calendar',\n",
              " 'so that s what we do um it s our big treatment',\n",
              " 'that s good',\n",
              " 'no i wa the second oldest',\n",
              " 'and i sat down in the recliner clear throat to watch the news',\n",
              " 'did you talk to her about the group after or',\n",
              " 'i guess he more or le went through the door',\n",
              " 'hm',\n",
              " 'uhhuh',\n",
              " 'oh well i wa born in fort wayne indiana',\n",
              " 'in fact tha there were two that i set off today',\n",
              " 'and i said',\n",
              " 'right',\n",
              " 'so to make uti s probably the most common cause of this temporary',\n",
              " 'or else i m going to fall asleep',\n",
              " 'good laugh good that s great',\n",
              " 'still',\n",
              " 'sure',\n",
              " 'pretty much so',\n",
              " 'where were you',\n",
              " 'exactly',\n",
              " 'uh they moved a fast a they could',\n",
              " 'and that s your uh',\n",
              " 'so great and you know how you can you help to make those',\n",
              " 'and and another thing to think about',\n",
              " 'well after i take my last dose in the evening i have a little um',\n",
              " 'yeah exactly',\n",
              " 'xxx',\n",
              " 'i went too long ago to worry about it',\n",
              " 'laugh exc',\n",
              " 'yeah',\n",
              " 'logical',\n",
              " 'mhm',\n",
              " 'church calendar',\n",
              " 'um so are there any so',\n",
              " 'car or a train',\n",
              " 'yeah so yeah it s kind of crazy how it s all um',\n",
              " 'wow',\n",
              " 'isn t okay it s not',\n",
              " 'and finally what i found out wa they were calling her in because',\n",
              " 'yep no you have your own',\n",
              " 'so you re using all of them then there is nothing you re not using',\n",
              " 'what about the calendar and the timer',\n",
              " 'okay',\n",
              " 'yeah it s coming',\n",
              " 'no you just put them up there',\n",
              " 'i love that right on the card',\n",
              " 'uh she said exc',\n",
              " 'two group',\n",
              " 'but i enjoyed the group because we were bouncing thing off of',\n",
              " 'but um exc',\n",
              " 'but uh we real shy on girl',\n",
              " 'to maybe help you to remember to use some of the thing',\n",
              " 'laugh see exc',\n",
              " 'do they',\n",
              " 'she sure',\n",
              " 'mhm',\n",
              " 'you did notebook you did date book and there wa one other thing',\n",
              " 'no',\n",
              " 'my whole life',\n",
              " 'do you know like which one it is or',\n",
              " 'now let s see you ve never talked to your doctor about your',\n",
              " 'mhm',\n",
              " 'yes a little bit',\n",
              " 'like that and she wa angry because somebody didn t like something',\n",
              " 'i mean i enjoyed the group you know',\n",
              " 'well let s see',\n",
              " 'that i forget',\n",
              " 'back here',\n",
              " 'yeah he just',\n",
              " 'there were twelve in one family thirteen in one family',\n",
              " 'in next uh next semester you ll be in higher one and it wa',\n",
              " 'when they when they play',\n",
              " 'because if i don t the next time i wanna use it it s not there and',\n",
              " 'be cause it hasn t been that long ago you know',\n",
              " 'uhhuh',\n",
              " 'i can t remember what that is and what it',\n",
              " 'mhm',\n",
              " 'and then i do like my safety deposit box to remind xxx coming out',\n",
              " 'but were they from hungary originally',\n",
              " 'where about in europe',\n",
              " 'mhm yep',\n",
              " 'wow',\n",
              " 'and she said',\n",
              " 'how did you come across the country',\n",
              " 'uh quite a bit apparently',\n",
              " 'this morning already',\n",
              " 'mhm',\n",
              " 'all sort of different thing in life',\n",
              " 'gave up kind of',\n",
              " 'and so in the phone in the living room',\n",
              " 'mhm',\n",
              " 'i couldn t remember betty',\n",
              " 'which is a loss of language and really the word finding is what we',\n",
              " 'mhm',\n",
              " 'they went through that',\n",
              " 'yeah',\n",
              " 'well pamela',\n",
              " 'no i eat three meal a day if',\n",
              " 'for me i don t think it wouldn t have been that beneficial',\n",
              " 'okay',\n",
              " 'so or have my sister put help me put together a slideshow',\n",
              " 'and xxx there wa something else but i don t remember',\n",
              " 'that s wonderful',\n",
              " 'and mother wa with him',\n",
              " 'it twist around there and they can take the knot',\n",
              " 'laugh exc',\n",
              " 'i just couldn t get over it',\n",
              " 'no',\n",
              " 'came back again',\n",
              " 'what about your son',\n",
              " 'check',\n",
              " 'of course you can go way over and go way over and way over and',\n",
              " 'well what is it',\n",
              " 'what about in your when you did it in other people s house',\n",
              " 'and i she called me and she s already been here',\n",
              " 'i love that',\n",
              " 'that is uh quite a thing',\n",
              " 'and they uh they came in when uh when the thing wa sort of on',\n",
              " 'which from the one i gave you in um while we were here do',\n",
              " 'but yeah i think i don t know whether the urinary tract infec',\n",
              " 'mhm that s funny',\n",
              " 'xxx two of u were in the car the one day',\n",
              " 'lord please help u find what i m looking for today because i',\n",
              " 'what is that little thing',\n",
              " 'you mean under the cabinet',\n",
              " 'it just keep you active and you know a little smarter',\n",
              " 'okay',\n",
              " 'alright good',\n",
              " 'because i wa only about fifteen',\n",
              " 'yeah when did i take it',\n",
              " 'well i didn t think about it i just xxx exc',\n",
              " 'mhm',\n",
              " 'um it just doesn t get better laugh',\n",
              " 'sound great',\n",
              " 'good',\n",
              " 'it ha arm',\n",
              " 'because that can be confusing',\n",
              " 'but they must xxx',\n",
              " 'can you see',\n",
              " 'my my f my folk ur came in from hungary',\n",
              " 'and she could move',\n",
              " 'i said',\n",
              " 'uh not every time i cook',\n",
              " 'mhm',\n",
              " 'mhm how old were you',\n",
              " 'mhm',\n",
              " 'i know i looked at mine',\n",
              " 'yeah',\n",
              " 'i graduated from duquesne in august',\n",
              " 'what are you doing',\n",
              " 'yeah',\n",
              " 'cough so um',\n",
              " 'could you could you tell how many people there were',\n",
              " 'and i enjoyed it very much',\n",
              " 'xxx exc',\n",
              " 'and it kept making ice making ice making ice',\n",
              " 'pill holder clear throat that s divided into two section and i',\n",
              " 'oh i m sure',\n",
              " 'this went all the way around there and tied up over there in the',\n",
              " 'they so that you re the are you oldest the youngest or',\n",
              " 'yeah sure',\n",
              " 'like the thing that i do',\n",
              " 'mhm',\n",
              " 'and i know that um i x don t think there s a person in this',\n",
              " 'yeah that s fair',\n",
              " 'you re right',\n",
              " 'what d she do',\n",
              " 'but it s all good',\n",
              " 'when i went to lay down i wa like',\n",
              " 'oh okay',\n",
              " 'if you wanna see them you hafta go and you hafta walk over here and',\n",
              " 'all the doctor',\n",
              " 'the thing i don t like is the loud noise',\n",
              " 'i use them daily',\n",
              " 'yeah that s fair',\n",
              " 'good',\n",
              " 'chuckle',\n",
              " 'animal',\n",
              " 'when you got married did you have any kid',\n",
              " 'sure',\n",
              " 'but that s a long',\n",
              " 'well i ve gotta be going',\n",
              " 'what kind of thing are they going to be doing to you while you re',\n",
              " 'uh we had one sister',\n",
              " 'feel alright',\n",
              " 'mhm yeah',\n",
              " 'yeah',\n",
              " 'don t needta be',\n",
              " 'yeah this is doctor',\n",
              " 'you know once a month to review thing',\n",
              " 'okay',\n",
              " 'mhm',\n",
              " 'semantic is se k',\n",
              " 'but not',\n",
              " 'they can they can go in there and spread them all out and',\n",
              " 'like writing and thing like that',\n",
              " 'well i didn t have a big sister really',\n",
              " 'and then come back',\n",
              " 'and later on we went downstairs',\n",
              " 'but now you re feeling i mean your memory doesn t seem changed in',\n",
              " 'every little thing that they had xxx xxx',\n",
              " 'if i m sewing or something',\n",
              " 'i beg your pardon',\n",
              " 'silver hair didn t ask for a bald spot',\n",
              " 'and i said',\n",
              " 'and really what it is is you think about the feature of the word',\n",
              " 'it wa',\n",
              " 'pretty pretty often because like i baked friday and when i m',\n",
              " 'uh and uh and i want them to do something special like you know',\n",
              " 'mhm',\n",
              " 'yeah okay',\n",
              " 'why sure',\n",
              " 'this is all coming back',\n",
              " 'back into my account',\n",
              " 'oh yes',\n",
              " 'good',\n",
              " 'that s frightening',\n",
              " 'i have a thing on the back of my bedroom door',\n",
              " 'that is a strategy',\n",
              " 'and we can learn from each other',\n",
              " 'with that yes',\n",
              " 'mhm',\n",
              " 'yes',\n",
              " 'and now have a third one',\n",
              " 'we lost xxx exc',\n",
              " 'were coming on the street',\n",
              " 'oh goodness',\n",
              " 'mhm',\n",
              " 'have you ever referred to it',\n",
              " 'so did you have dog earlier before of your own',\n",
              " 'because i mean you re young you re seventy five you know',\n",
              " 'that is great',\n",
              " 'all of it every xxx',\n",
              " 'then i can put it on the calendar if i consider it worthwhile',\n",
              " 'i keep it in my purse',\n",
              " 'i don t think you quite understood what i wa saying',\n",
              " 'ro eh some thing true',\n",
              " 'you know what',\n",
              " 'forgetting daily word that is starting to happen more and more',\n",
              " 'mhm',\n",
              " 'i don t know why',\n",
              " 'mhm',\n",
              " 'oh yeah',\n",
              " 'and i don t remember that person',\n",
              " 'yeah and i have three great grand kid now',\n",
              " 'it uh it made me more aware more than anything else',\n",
              " 'mhm',\n",
              " 'very good to know',\n",
              " 'so i know any time after that i can make an appointment and my',\n",
              " 'you go up there you see that xxx laugh exc',\n",
              " 'do you want a hint',\n",
              " 'mhm yeah',\n",
              " 'yeah she wa that person',\n",
              " 'so i stayed outside because it wa you know none of my business',\n",
              " 'and so yeah i still remember to do that exc',\n",
              " 'good that make me very happy',\n",
              " 'mhm',\n",
              " 'no the big one',\n",
              " 'mhm',\n",
              " 'it s hard for you',\n",
              " 'well i haven t been able to do that much lately laugh',\n",
              " 'mhm yeah',\n",
              " 'yeah',\n",
              " 'mhm',\n",
              " 'oh i feel alright yeah',\n",
              " 'i might remember what it wa',\n",
              " 'oh so rare',\n",
              " 'i is your daughter s name charlene',\n",
              " 'always walk by myself',\n",
              " 'to find parking',\n",
              " 'uh no not really',\n",
              " 'really',\n",
              " 'i don t like the way my voice sound',\n",
              " 'okay cool i ll take that',\n",
              " 'i wasn t doing any xxx or whoring',\n",
              " 'or how the group or talking about the group to the other lady',\n",
              " 'mhm',\n",
              " 'oh yes',\n",
              " 'okay',\n",
              " 'yeah that s important',\n",
              " 'then i i say',\n",
              " 'and served through',\n",
              " 'and everytime you hafta go somewhere',\n",
              " 'and i said okay',\n",
              " 'so if you have any pain',\n",
              " 'it made me you know instead of just',\n",
              " 'oh that s great',\n",
              " 'so you know',\n",
              " 'laugh in june',\n",
              " 'and he told u he d rather uh rent a car and drive it off a cliff',\n",
              " 'uh i have five child all together',\n",
              " 'so i m continuing',\n",
              " 'help you see a little bit',\n",
              " 'yes i know',\n",
              " 'sign',\n",
              " 'good i didn t think so',\n",
              " 'i mean if you say oh i ve got a',\n",
              " 'and my seventeen year old he want to go to harvard',\n",
              " 'it is',\n",
              " 'do do you rent them out',\n",
              " 'how so you were saying you do feel a change since we last',\n",
              " 'and you have nice furniture',\n",
              " 'and finally it wa like adhesion',\n",
              " 'it amazes me i have friend who will leave',\n",
              " 'mhm',\n",
              " 'you know',\n",
              " 'i play scrabble',\n",
              " 'like once a month or every other month following',\n",
              " 'you wanna know about that',\n",
              " 'and when i got to the hospital my pressure wa two hundred and',\n",
              " 'uhhuh who s that',\n",
              " 'and i have i put my picture right in the front and uh so',\n",
              " 'be cause i have one ovary left i had a hysterectomy when i wa thirty',\n",
              " 'it can lead to complication',\n",
              " 'and you you know we tried to determine which one of u would',\n",
              " 'oh nice that s awesome',\n",
              " 'mhm',\n",
              " 'and uh he uh he wo he doe with the he work with the same',\n",
              " 'so it wa nice',\n",
              " 'well betty don t worry about it',\n",
              " 'mhm',\n",
              " 'cross that box off the list',\n",
              " 'of what i wa doing',\n",
              " 'fire',\n",
              " 'we had x the timer',\n",
              " 'good',\n",
              " 'wow',\n",
              " 'they certainly are',\n",
              " 'xxx',\n",
              " 'yes',\n",
              " 'confusion for me',\n",
              " 'being cooky',\n",
              " 'uhhuh',\n",
              " 'yeah',\n",
              " 'yeah you use all three',\n",
              " 'good awesome',\n",
              " 'but i think it s quite fun to see those thing',\n",
              " 'but uh other than that i don t i don t think so',\n",
              " 'xxx',\n",
              " 'no i don t really can t give you that a honest to god',\n",
              " 'yeah that s nice',\n",
              " 'and she wa eighty six year old before she passed',\n",
              " 'i don t feel bad about me',\n",
              " 'cat',\n",
              " 'yeah',\n",
              " 'whereabouts',\n",
              " 'we we oughta find more',\n",
              " 'and anything um',\n",
              " 'i wish she wouldn t have xxx',\n",
              " 'that ha definitely decreased',\n",
              " 'and uh we had we had a good crew',\n",
              " 'good',\n",
              " 'can you tell me about your kid',\n",
              " 'and then they came they came to america',\n",
              " 'and i use it i use the timer',\n",
              " 'up in one corner of the bed because the',\n",
              " 'but i have every and like this one i have i have an',\n",
              " 'oh mama s washing',\n",
              " 'that s in my purse',\n",
              " 'mhm',\n",
              " 'yeah so mhm',\n",
              " 'but wherever i make notation i would use pen to highlight',\n",
              " 'good',\n",
              " 'oh good',\n",
              " 'but you had child with your wife right',\n",
              " 'but these last few day i m taking um i m using an inhaler',\n",
              " 'yeah i m xxx',\n",
              " 'i thought so',\n",
              " 'i have all the doctor',\n",
              " 'oh well',\n",
              " 'well you find it don t you',\n",
              " 'oh that s funny',\n",
              " 'and one of you would be like',\n",
              " 'nice',\n",
              " 'that s happened in the past year and a half',\n",
              " 'there s thirty different people you know they put xxx',\n",
              " 'um what kind of thing do you do',\n",
              " 'yeah i get xxx exc',\n",
              " 'but at some point you re going to hafta',\n",
              " 'xxx and everything else which they don t do',\n",
              " 'and i but i you know i x could appreciate it',\n",
              " 'it s interesting the way that thing go',\n",
              " 'yeah',\n",
              " 'i m a hungarian',\n",
              " 'one son',\n",
              " 'you re not worried',\n",
              " 'no',\n",
              " 'and then we also talked about timer',\n",
              " 'and aren t you happy',\n",
              " 'uh you know compared x to people younger than me they say',\n",
              " 'any other task that you feel are staring to get difficult',\n",
              " 'and that s lisinopril if you ve heard of anybody else having',\n",
              " 'that s the whole point',\n",
              " 'no the uh let s see i m older than xxx some that s up there',\n",
              " 'tell me about him',\n",
              " 'mhm',\n",
              " 'for our own house',\n",
              " 'my foot doctor',\n",
              " 'can you tell me more about this picture',\n",
              " 'uhhuh',\n",
              " 'mhm',\n",
              " 'if you say anything bad against',\n",
              " 'i wa more concerned with some other problem that i had',\n",
              " 'mhm',\n",
              " 'mhm',\n",
              " 'are you married',\n",
              " 'yeah and',\n",
              " 'yeah well my little timer didn t work quite like it wa sposta',\n",
              " 'my cal calendar',\n",
              " 'and um it s x where i have my magnifier',\n",
              " 'and very caring about other people here you know',\n",
              " 'you were saying you use the um wallet with you everyday if you',\n",
              " 'uh writing thing down',\n",
              " 'what did you do',\n",
              " 'i just call though before it wa due but i you know this',\n",
              " 'i xxx',\n",
              " 'you xxx got all moisture in there all of this area is moisture',\n",
              " 'and she told or you forget more so if this way if you have it wrote',\n",
              " 'yeah on the inside',\n",
              " 'oh',\n",
              " 'i well',\n",
              " 'you think you re having trouble with anything',\n",
              " 'xxx',\n",
              " 'do you remember what those three were',\n",
              " 'that s one of the last lady i just met with she said the',\n",
              " 'yeah',\n",
              " 'or vice versa which wa really nice',\n",
              " 'and like writing down wor that one in particular',\n",
              " 'if you were leaving something on the stove certainly for a cer a',\n",
              " 'i know laugh',\n",
              " 'it wa like',\n",
              " 'that s pretty good',\n",
              " 'even i you know can t remember every detail of every date',\n",
              " 'oh in the back i take',\n",
              " 'mhm',\n",
              " 'i do',\n",
              " 'i said',\n",
              " 'good to know',\n",
              " 'and we have activity going on every month',\n",
              " 'or you know even uh relationship',\n",
              " 'yeah',\n",
              " 'and she s just you know',\n",
              " 'mhm',\n",
              " 'that wa that s unexpected right',\n",
              " 'yes',\n",
              " 'mhm',\n",
              " 'and they settled in new york for a while',\n",
              " 'yeah',\n",
              " 'and uh exc',\n",
              " 'and then they re you know like they ll be talking to me',\n",
              " 'yeah',\n",
              " 'at least i don t see any of them',\n",
              " 'that i think you felt i mean i personally think',\n",
              " 'after that group session like every month or something like that',\n",
              " 'she s doing dish',\n",
              " 'mhm',\n",
              " 'that s important',\n",
              " 'my not the kind of gardening that my mama would have liked to',\n",
              " 'and you re blotty and it twist around your intestine or wherever',\n",
              " 'but i had a problem in',\n",
              " 'you know',\n",
              " 'your wife s a very nice woman',\n",
              " 'mhm',\n",
              " 'when i m out and then i only hafta take my cell phone with me',\n",
              " 'you just stayed',\n",
              " 'share it if i can',\n",
              " 'just to show them you know the diversity in my family',\n",
              " 'next month um',\n",
              " 'uhhuh',\n",
              " 'that s wonderful',\n",
              " 'yeah totally',\n",
              " 'so i just take everything out of there',\n",
              " 'so you re still using the calendar',\n",
              " 'you seem to be doing fine',\n",
              " 'see that',\n",
              " 'yeah he s uh he s he s enjoying the',\n",
              " 'do you do anything else',\n",
              " 'car inspection i have that written down',\n",
              " 'what s going on here',\n",
              " 'oh we did this',\n",
              " 'right',\n",
              " 'so for example table',\n",
              " 'now i have my mother s first cousin',\n",
              " 'that s a tough one huh',\n",
              " 'not that i x know of because maybe i don t know that i m losing',\n",
              " 'yeah',\n",
              " 'yeah',\n",
              " 'still there',\n",
              " 'peter s the name of your daughter',\n",
              " 'it s important i ll write it on and stick it on there so i see it',\n",
              " 'of why you re experiencing that',\n",
              " 'and i just write everything',\n",
              " 'yeah',\n",
              " 'only the best way i could do it wa by riding the railroad',\n",
              " 'is there anything else you want me to know about your memory',\n",
              " 'it wa a six week group back only a year and a half ago now',\n",
              " 'i talked to um janet right before she came and that s what',\n",
              " 'watch it and xxx temper exc',\n",
              " 'she just uh she just came i just saw her today',\n",
              " 'so you were a professional',\n",
              " 'they re all gone now the older one are',\n",
              " 'no',\n",
              " 'that s great',\n",
              " 'and to pas them down',\n",
              " 'yeah and uh well you this is you seldom ever see me in',\n",
              " 'but i know that s what i wanna say but i can t actually think of',\n",
              " 'and someone else is over here',\n",
              " 'oh no my phone i don t know what s happening silence phone',\n",
              " 'and we kinda went over three major thing',\n",
              " 'remember it wa clear and a little bit of a wallet and we had some',\n",
              " 'come back in three month',\n",
              " 'and i hung on to it like this',\n",
              " 'do you have a separate calendar from the monthly calendar or no',\n",
              " 'sure',\n",
              " 'and when i got up xxx and i thought well i didn t i wa',\n",
              " 'mhm',\n",
              " 'do you think you would have benefited from',\n",
              " 'xxx exc',\n",
              " 'so i set that',\n",
              " 'how do you think if afterwards if we had monthly meeting or phone',\n",
              " 'but my one son he s weird and he his wife take care of all of',\n",
              " 'what',\n",
              " 'shot',\n",
              " 'she say',\n",
              " 'you think of what it start with and thing like that',\n",
              " 'like what daily task are difficult to do',\n",
              " 'uh writing thing down and make well making x i guess',\n",
              " 'live in california now right',\n",
              " 'she s a secretary for the transfer center',\n",
              " 'about that big',\n",
              " 'to help keep the you know when you have appointment and that',\n",
              " 'well who am i',\n",
              " 'at least it s up upset me',\n",
              " 'good',\n",
              " 'mhm',\n",
              " 'no no',\n",
              " 'right where you re looking here',\n",
              " 'um dorothy',\n",
              " 'yes',\n",
              " 'is there anything difficult',\n",
              " 'on a normal day when you went to work to be a butcher',\n",
              " 'remember my calendar',\n",
              " 'uh i think possibility of it yeah',\n",
              " 'mhm',\n",
              " 'well she worked like everything you know',\n",
              " 'did you grow up here',\n",
              " 'you better believe it',\n",
              " 'oh yeah it this medication did that',\n",
              " 'doe doe charlene have a family',\n",
              " 'or okay something is happening to me',\n",
              " 'they d st stolen everything away from the people that were working',\n",
              " 'what wa your your',\n",
              " 'mhm',\n",
              " 'is your son s name john',\n",
              " 'were you born here and you grew up here',\n",
              " 'the little one didn t work good',\n",
              " 'yeah',\n",
              " 'that stay here',\n",
              " 'everybody wa like oh my goodness thing i wont be able to',\n",
              " 'laugh',\n",
              " 'i write phone number',\n",
              " 'i don t think it would have helped me any',\n",
              " 'think i can think of the third one',\n",
              " 'of anybody that call so i can call then back',\n",
              " 'or wa that the inhaler',\n",
              " 'i don t know about that',\n",
              " 'dish and child are h taking uh jam or jelly or something',\n",
              " 'xxx',\n",
              " 'and so i ve been taking my normal medication i take after',\n",
              " 'hm',\n",
              " 'but it s nice',\n",
              " 'the people who did not um take advantage of your study here',\n",
              " 'mhm',\n",
              " 'the small one',\n",
              " 'and i and i think it wa in new york city they landed',\n",
              " 'he said to his nurse exc',\n",
              " 'this exc',\n",
              " 'i said',\n",
              " 'i didn t xxx but you see there s thing you accept in life',\n",
              " 'oh so you took everything down',\n",
              " 'it took me two minute to get into my facebook',\n",
              " 'then behind that is all my',\n",
              " 'they re not still not here most of them are back east',\n",
              " 'no i wo i wo took uh a lot of this stuff the wall covering',\n",
              " 'no i don t really think so i mean we all forget thing from time to',\n",
              " 'i just wanna get to know you and find out something about you',\n",
              " 'mhm',\n",
              " 'i just put down',\n",
              " 'i think it s good',\n",
              " 'did you get any of my call',\n",
              " 'and it s still in your car',\n",
              " 'they don t even talk yet they re so small',\n",
              " 'i don t know xxx xxx',\n",
              " 'what s what s the mother doing',\n",
              " 'i love it',\n",
              " 'so it s just just tell me some more about so you grew up out',\n",
              " 'now you said you still have the personal wallet in your pur',\n",
              " 'mhm',\n",
              " 'that s great',\n",
              " 'since i last saw you',\n",
              " 'but he x like that exc',\n",
              " 'all the way across the country',\n",
              " 'i took my phone',\n",
              " 'what s going on he re',\n",
              " 'one day',\n",
              " 'when you buy it you can get together and you uh you buy them',\n",
              " 'eh i know',\n",
              " 'birthday wish',\n",
              " 'xxx mhm',\n",
              " 'a whittler',\n",
              " 'dorothy red head dorothy',\n",
              " 'well that s all that i hadta do today',\n",
              " 'we ll be talking about something and this one cousin in',\n",
              " 'and i use the timer all the time when i bake',\n",
              " 'mhm yeah exactly',\n",
              " 'or what you learned',\n",
              " 'well she d never done anything like that before but she did it',\n",
              " 'hm',\n",
              " 'that wa a really good one',\n",
              " 'you know that way',\n",
              " 'uhhuh',\n",
              " 'no it wa',\n",
              " 'do you',\n",
              " 'since i m so old now i don t know those thing that happened there',\n",
              " 'on a couple of occasion yeah',\n",
              " 'i write when my daughter s coming home',\n",
              " 'so for example if i can t think of the word airplane',\n",
              " 'do you look at your calendar everyday',\n",
              " 'i had all kind of test and stuff done',\n",
              " 'um',\n",
              " 'yeah',\n",
              " 'so i had to stay inside with her',\n",
              " 'and i think that s such a great thing for you to be able to look at',\n",
              " 'and it doesn t always go very well with a lot of number of people',\n",
              " 'i never knew about that when i wa growing up',\n",
              " 'mhm x',\n",
              " 'we also did calendar',\n",
              " 'she can do all sort of thing',\n",
              " 'there s so many now',\n",
              " 'well that hope that i uh you know change and get better',\n",
              " 'well i got ahold of a piece of like a something that wa a tree',\n",
              " 'okay',\n",
              " 'nice job',\n",
              " 'and i ll say',\n",
              " 'and pouring that one',\n",
              " 'yeah',\n",
              " 'you know it s right there and then if god forbid you know',\n",
              " 'okay',\n",
              " 'i know you did',\n",
              " 'not very very young',\n",
              " 'yeah of course',\n",
              " 'no no none at all',\n",
              " 'well you said listen i said',\n",
              " 'well i take one yeah i take them out of it',\n",
              " 'and uh i like to make my own bed',\n",
              " 'well see the r the reason i started doing these book in the first',\n",
              " 'is there anything else you that would want me to know about your',\n",
              " 'i wanted to talk with you some more',\n",
              " 'but i could hear section of the what they did say some of you',\n",
              " 'i think you can',\n",
              " 'that s a very uh long thing you know',\n",
              " 'making a list of thing',\n",
              " 'i did',\n",
              " 'what s her name',\n",
              " 'hm',\n",
              " 'i do it by myself if i wanna i well i can get somebody to help',\n",
              " 'keep you',\n",
              " 'and i m useta operating with my password',\n",
              " 'do you',\n",
              " 'or do you feel you mastered what you needed to',\n",
              " 'mhm',\n",
              " 'oh you mean',\n",
              " 'some other house',\n",
              " 'going',\n",
              " 'laugh exc',\n",
              " 'i suppose they do',\n",
              " 'i had it taken off of here and i had it you know just on my',\n",
              " 'um wanna do it',\n",
              " 'you brought one of them with you',\n",
              " 'yeah',\n",
              " 'and in different place xxx so i can see it exc',\n",
              " 'yeah that s great',\n",
              " 'they the girl like you',\n",
              " 'i got a big one today',\n",
              " 'that s hard to learn',\n",
              " 'yeah',\n",
              " 'are you the oldest',\n",
              " 'and laugh when i sat down i had an early dinner tonight',\n",
              " 'do you remember the name of the place',\n",
              " 'so i get the check out the night before',\n",
              " 'see thi this is where it nailed down',\n",
              " 'tell me what kind of family do you come from',\n",
              " 'yeah mhm',\n",
              " 'i tell you if you re driving your car it practically',\n",
              " 'and they re clear so you can look through and see everything',\n",
              " 'okay',\n",
              " 'i like number',\n",
              " 'i d get them all in my bed',\n",
              " 'yeah just like that',\n",
              " 'i take that with me everywhere i go',\n",
              " 'yeah',\n",
              " 'uhhuh',\n",
              " 'really that s awesome',\n",
              " 'young lady did you come to take care of me today or to sit and',\n",
              " 'mhm',\n",
              " 'and then uh',\n",
              " 'you know',\n",
              " 'something you don t think about',\n",
              " 'yeah doe',\n",
              " 'mhm',\n",
              " 'yeah',\n",
              " 'every year',\n",
              " 'you tell her',\n",
              " 'yeah i didn t think so',\n",
              " 'that s the problem',\n",
              " 'first i just wanna ask you general question',\n",
              " 'i can t do that',\n",
              " 'i m sorry',\n",
              " 'what is what did you do',\n",
              " 'remember we had the small timer',\n",
              " 'it s better that way than the other way though',\n",
              " 'could you show me though',\n",
              " 'which wa nice to have that group dynamic',\n",
              " 'i wa hoping one of you guy could help me out',\n",
              " 'she s asking her mother for a cookie',\n",
              " 'which thing wa that',\n",
              " 'how did you come across the country',\n",
              " 'i would put it on the calendar so i wouldn t forget exc',\n",
              " 'this is in your daughter s classroom',\n",
              " 'my dad wa',\n",
              " 'have you been gardening at all',\n",
              " 'due to your memory that you re having problem with',\n",
              " 'okay',\n",
              " 'fire place',\n",
              " 'okay this month it s uh a memorial day um celebration',\n",
              " 'i use the calendar all i use the calendar all the time',\n",
              " 'mhm where they would be',\n",
              " 'of anybody in the school',\n",
              " 'i said',\n",
              " 'well she x gettin g a lot of internship over there',\n",
              " 'yeah',\n",
              " 'oh i don t go out without that',\n",
              " 'and i ll give her the name of the movie',\n",
              " 'where we re all pretty much in the same boat',\n",
              " 'oh',\n",
              " 'yeah which it s nice',\n",
              " 'and whenever i can i take thing you know that i think would',\n",
              " 'well you remember so and so and such',\n",
              " 'yeah uhhuh',\n",
              " 'i ll put them to place',\n",
              " 'uhhuh',\n",
              " 'yeah everything',\n",
              " 'it s very nice',\n",
              " 'i might check for today and tomorrow',\n",
              " 'and dad wa working there',\n",
              " 'i put ice on i put heat on i did the whole thing',\n",
              " 'well you said you gave me a time',\n",
              " 'do you ever use it',\n",
              " 'on my stovetop',\n",
              " 'what about your kid your child',\n",
              " 'oh',\n",
              " 'well i don t i suppose it s a strategy for memory',\n",
              " 'yeah',\n",
              " 'but you didn t tell me much about your child',\n",
              " 'and just tell me what s going on okay',\n",
              " 'yeah',\n",
              " 'that s so that s great',\n",
              " 'uhhuh',\n",
              " 'got ya',\n",
              " 'i um two month ago i had a terrible reaction to my one',\n",
              " 'who did you go with',\n",
              " 'but here wa this girl going around with broken glass in her hand',\n",
              " 'yeah',\n",
              " 'i see',\n",
              " 'so exc',\n",
              " 'down in south los angeles',\n",
              " 'xxx you just don t think about i',\n",
              " 'one is if you think of the feature enough it ll help you',\n",
              " 'xxx is still far away difficult to hear',\n",
              " 'um but if you get in the habit of thinking of it that way',\n",
              " 'so that work out for me',\n",
              " 'i talked to your wife',\n",
              " 'um and different color',\n",
              " 'very good',\n",
              " 'vivianne said she got the information',\n",
              " 'and she she wa the first one to',\n",
              " 'i don t think it s my voice',\n",
              " 'um and the little lady up here in the first apartment always',\n",
              " 'i have um six book six uh three ring binder',\n",
              " 'and uh i walk after breakfast every morning',\n",
              " 'um i don t know',\n",
              " 'i don t know why this one didn t hear it when when uh when',\n",
              " 'it could be on all night and not bother anything',\n",
              " 'yeah and there wa something to about having it a a group that wa',\n",
              " 'and um i got to those place',\n",
              " 'um i wouldn t say every single day',\n",
              " 'when uh they came in from hungary',\n",
              " 'right',\n",
              " 'xxx',\n",
              " 'well some of the people that were here and some had gone down there',\n",
              " 'and i have the appointment card here',\n",
              " 'sure i got uh two uh two two boy of mine there',\n",
              " 'gotcha',\n",
              " 'that s great',\n",
              " 'you know',\n",
              " 'and ever since then we ve had a lot of people',\n",
              " 'if i remember to look at it',\n",
              " 'yep exactly',\n",
              " 'she s her first year too',\n",
              " 'scary',\n",
              " 'that s where they came from exactly',\n",
              " 'doe she have a husband and child',\n",
              " 'i can do that very easily',\n",
              " 'yeah but you don t mhm',\n",
              " 'i wanted to say to doctor ian i',\n",
              " 'he want to be a xxx for the emergency but uh',\n",
              " 'and i wa slower in some thing that they were faster in',\n",
              " 'a i wa before there there s also their group that are',\n",
              " 'wherever i can laugh',\n",
              " 'had any decency in your feeling about people and thing that you',\n",
              " 'no grandchild',\n",
              " 'oh my goodness so just a lot',\n",
              " 'no i think it really eased my concern a whole lot you know',\n",
              " 'and having those little card and that',\n",
              " 'better',\n",
              " 'mhm',\n",
              " 'mhm',\n",
              " 'for instance well um my life is pretty prescribed uh but',\n",
              " 'yep i shouldn t k',\n",
              " 'with',\n",
              " 'what so have you talked to vivianne about',\n",
              " 'my teacher should be here and they d throw me out the door',\n",
              " 'that make sense',\n",
              " 'and uh so they were trying to get ready to get the girl that',\n",
              " 'exactly',\n",
              " 'mhm',\n",
              " 'the spot',\n",
              " 'are you using those at all',\n",
              " 'and i put their phone number behind it',\n",
              " 'um and it s really nice to see that everybody s one thing is also',\n",
              " 'mhm',\n",
              " 'yeah that s exactly',\n",
              " 'good mhm',\n",
              " 'i wanna play i m going to do some thing for you',\n",
              " 'so we had a six week group',\n",
              " 'but it s hard i know if you just go once in a while it s impossible',\n",
              " 'so do you use your calendar daily',\n",
              " 'yeah',\n",
              " 'well the nice thing about living in a place like this is you have',\n",
              " 'mhm',\n",
              " 'i i worked for',\n",
              " 'laugh and it helped a lot',\n",
              " 'mhm',\n",
              " 'tell me what you want them for',\n",
              " 'sorry in the back',\n",
              " 'i ll tell you what this test did do',\n",
              " 'do you know why you re here',\n",
              " 'to also hafta share that with your family you know',\n",
              " 'oh my god i couldn t',\n",
              " 'uhuh',\n",
              " 'well i think she go ahead and doe it and she went',\n",
              " 'so i didn t hear much of any more and i but i ve seen',\n",
              " 'and i wanna do have',\n",
              " 'no x',\n",
              " 'yeah',\n",
              " 'so did were you born in the east or were you born out here',\n",
              " 'well it it s just every once in a while i will forget one',\n",
              " 'oh that s wonderful though',\n",
              " 'and it s the my daughter went in and there s a big place',\n",
              " 'yeah and that s what wa so nice it wa really and it wa so nice',\n",
              " 'is there anything that you re like oh my memory get in the way',\n",
              " 'i mean i maybe maybe it s just that i ve gotten useta',\n",
              " 'wow',\n",
              " 'that s amazing',\n",
              " 'that s fun though',\n",
              " 'you know what the date is',\n",
              " 'wow',\n",
              " 'the only trouble well not the only trouble but i don t like ucla',\n",
              " 'okay great',\n",
              " 'nan',\n",
              " 'xxx is that your daughter',\n",
              " 'oh it wa it wa fine',\n",
              " 'and it s about',\n",
              " 'what are their name',\n",
              " 'did they run away',\n",
              " 'who s been to see you lately',\n",
              " 'do you remember what the focus what were the three type of',\n",
              " 'efficiently',\n",
              " 'and i lost a friend',\n",
              " 'i think we re every i think i m okay with it but i want',\n",
              " 'every bit of their property',\n",
              " 'oh my goodness',\n",
              " 'and i kind of have lost this',\n",
              " 'so i set the timer and fell asleep anyway laugh clear throat',\n",
              " 'you re retired',\n",
              " 'xxx xxx',\n",
              " 'now those picture are hanging on my wall and but no',\n",
              " 'do you feel you have',\n",
              " 'everything you know with you it really seems like the calendar',\n",
              " 'and i can look back at my thing and say oh yeah',\n",
              " 'she make me good hungarian food',\n",
              " 'and uh i got into there with uh with the family and uh they',\n",
              " 'trouble at that time',\n",
              " 'i said',\n",
              " 'because you d be losing it all the time',\n",
              " 'then it come to you',\n",
              " 'your husband and your child',\n",
              " 'the little memory wallet',\n",
              " 'yeah',\n",
              " 'for fourth of july',\n",
              " 'you can see them well from there',\n",
              " 'it s very complicated sometimes',\n",
              " 'it s a it won t get hurt it s fine',\n",
              " 'but um i do have the card information filled out',\n",
              " 'is that right',\n",
              " 'think you don t have too much difficulty with that sort of',\n",
              " 'they sell those beautiful thing',\n",
              " 'yeah',\n",
              " 'some of the lady were talking about like crossword puzzle or',\n",
              " 'mhm',\n",
              " 'did she',\n",
              " 'she said',\n",
              " 'uh about checking up on myself you know',\n",
              " 'mhm',\n",
              " 'and erase it',\n",
              " 'what way do you think the group wa the most beneficial',\n",
              " 'nope',\n",
              " 'that is honestly is probably if you have time a great tool for you',\n",
              " 'anybody try to get break it up i uh you tell me about it and if',\n",
              " 'she s had one or two thing and one or two one time she said',\n",
              " 'you mean what am i earning myself for a walk',\n",
              " 'yeah',\n",
              " 'and uh we started nothing but uh building and building and',\n",
              " 'oh yeah',\n",
              " 'you got a wife right',\n",
              " 'what do you think is most difficult due to your memory',\n",
              " 'water is under this carpet',\n",
              " 'push it along',\n",
              " 'i think anne is',\n",
              " 'well',\n",
              " 'pitt s awesome',\n",
              " 'what are you gonna do to me now',\n",
              " 'xxx xxx',\n",
              " 'i think that s an amazing thing',\n",
              " 'that s great',\n",
              " 'then i said clear throat exc',\n",
              " 'mhm',\n",
              " 'no',\n",
              " 'do you use any other strategy to help you out with your memory at',\n",
              " 'isn t your bulletin board right by your door',\n",
              " 'writing in your calendar',\n",
              " 'it s harder when you know people come to like the clinic or thing',\n",
              " 'huh',\n",
              " 'so you re using the card you pulled pinned to the bulletin',\n",
              " 'but the red light can burn out too',\n",
              " 'see when i go to the x bank uh you know you always ask for',\n",
              " 'stayed there quite some time i think',\n",
              " 'why is she happy',\n",
              " 'perfect',\n",
              " 'mhm',\n",
              " 'when the what they were trying to do wa to get to these',\n",
              " 'o kay',\n",
              " 'oh',\n",
              " 'i remember having this exact same conversation with you before',\n",
              " 'she wa trying to stop this other woman and both of u were',\n",
              " 'he say',\n",
              " 'what s going on here',\n",
              " 'laugh',\n",
              " 'when i went to stay at my grandparent',\n",
              " 'visual thing so i use that xxx i can make it real big',\n",
              " 'it can shut off over here and this is all uh handled by uh by',\n",
              " 'no',\n",
              " 'up high',\n",
              " 'good',\n",
              " 'she say',\n",
              " 'water',\n",
              " 'so it s like i do use it quite a bit',\n",
              " 'i do',\n",
              " 'but that but um it sound like what you are kind of trying to',\n",
              " 'so i know that on july third',\n",
              " 'yeah that s why i mean i could ve done this group at a',\n",
              " ...]"
            ]
          },
          "metadata": {
            "tags": []
          },
          "execution_count": 130
        }
      ]
    },
    {
      "cell_type": "code",
      "metadata": {
        "id": "Unn0NEzYzXnO",
        "colab_type": "code",
        "colab": {}
      },
      "source": [
        "from sklearn.feature_extraction.text import CountVectorizer\n",
        "cv = CountVectorizer()"
      ],
      "execution_count": 131,
      "outputs": []
    },
    {
      "cell_type": "code",
      "metadata": {
        "id": "bGj1MJ0CzcPS",
        "colab_type": "code",
        "colab": {
          "base_uri": "https://localhost:8080/",
          "height": 136
        },
        "outputId": "320986a2-ed5b-4ca4-dbb0-efb8f98e6039"
      },
      "source": [
        "\n",
        "X = cv.fit_transform(corpus).toarray()\n",
        "X"
      ],
      "execution_count": 132,
      "outputs": [
        {
          "output_type": "execute_result",
          "data": {
            "text/plain": [
              "array([[0, 1, 0, ..., 0, 0, 0],\n",
              "       [0, 0, 0, ..., 0, 0, 0],\n",
              "       [0, 0, 0, ..., 0, 0, 0],\n",
              "       ...,\n",
              "       [0, 0, 0, ..., 0, 0, 0],\n",
              "       [0, 0, 0, ..., 0, 0, 0],\n",
              "       [0, 0, 0, ..., 0, 0, 0]])"
            ]
          },
          "metadata": {
            "tags": []
          },
          "execution_count": 132
        }
      ]
    },
    {
      "cell_type": "code",
      "metadata": {
        "id": "Mc8BdJt2zd81",
        "colab_type": "code",
        "colab": {
          "base_uri": "https://localhost:8080/",
          "height": 51
        },
        "outputId": "01f30483-a90e-441d-d63b-681018ca99a3"
      },
      "source": [
        "print(X.shape)\n",
        "print(y.shape)"
      ],
      "execution_count": 133,
      "outputs": [
        {
          "output_type": "stream",
          "text": [
            "(4001, 1665)\n",
            "(4001,)\n"
          ],
          "name": "stdout"
        }
      ]
    },
    {
      "cell_type": "code",
      "metadata": {
        "id": "f3suS3MXzhB4",
        "colab_type": "code",
        "colab": {
          "base_uri": "https://localhost:8080/",
          "height": 325
        },
        "outputId": "857c6b9d-eb1a-44ba-fd35-a9fdd5a83bc1"
      },
      "source": [
        "\n",
        "# K-means clustering \n",
        "plt.style.use('fivethirtyeight')\n",
        "from sklearn.cluster import KMeans\n",
        "wcss = []\n",
        "for i in range (1,6):\n",
        "    kmeans = KMeans(n_clusters = i, init = 'k-means++', max_iter = 300, n_init = 10, random_state = 0)\n",
        "    kmeans.fit(X)\n",
        "    wcss.append(kmeans.inertia_)\n",
        "\n",
        "plt.plot(range(1,6),wcss)\n",
        "plt.title('Elbow Method Plot')\n",
        "plt.xlabel('Number of clusters')\n",
        "plt.ylabel('WCSS')\n",
        "plt.show()"
      ],
      "execution_count": 134,
      "outputs": [
        {
          "output_type": "display_data",
          "data": {
            "image/png": "[encoded data removed]",
            "text/plain": [
              "<Figure size 432x288 with 1 Axes>"
            ]
          },
          "metadata": {
            "tags": []
          }
        }
      ]
    },
    {
      "cell_type": "code",
      "metadata": {
        "id": "if6UatrhzktS",
        "colab_type": "code",
        "colab": {
          "base_uri": "https://localhost:8080/",
          "height": 34
        },
        "outputId": "3dedbef6-f5fc-45a1-af8f-2e3d1ddc5db5"
      },
      "source": [
        "kmeans = KMeans(n_clusters = 3, init = 'k-means++', max_iter = 300, n_init = 10, random_state = 0)\n",
        "y_kmeans = kmeans.fit_predict(X)\n",
        "y_kmeans"
      ],
      "execution_count": 135,
      "outputs": [
        {
          "output_type": "execute_result",
          "data": {
            "text/plain": [
              "array([2, 2, 2, ..., 1, 1, 0], dtype=int32)"
            ]
          },
          "metadata": {
            "tags": []
          },
          "execution_count": 135
        }
      ]
    },
    {
      "cell_type": "code",
      "metadata": {
        "id": "1pNJKHyYzuKa",
        "colab_type": "code",
        "colab": {
          "base_uri": "https://localhost:8080/",
          "height": 476
        },
        "outputId": "0b426006-fb69-45a6-d07a-5215d48c2491"
      },
      "source": [
        "print(\"Top terms per cluster:\")\n",
        "print()\n",
        "\n",
        "#sort cluster centers by proximity to centroid\n",
        "order_centroids = kmeans.cluster_centers_.argsort()[:, ::-1] \n",
        "\n",
        "terms = cv.get_feature_names()\n",
        "for i in range(3):\n",
        "    print('Cluster %d:' % i)\n",
        "    for index in order_centroids[i, :6]:\n",
        "        print(' %s' % terms[index])\n",
        "    print()\n",
        "print()"
      ],
      "execution_count": 136,
      "outputs": [
        {
          "output_type": "stream",
          "text": [
            "Top terms per cluster:\n",
            "\n",
            "Cluster 0:\n",
            " and\n",
            " the\n",
            " it\n",
            " that\n",
            " uh\n",
            " in\n",
            "\n",
            "Cluster 1:\n",
            " that\n",
            " yeah\n",
            " mhm\n",
            " it\n",
            " the\n",
            " to\n",
            "\n",
            "Cluster 2:\n",
            " you\n",
            " know\n",
            " do\n",
            " that\n",
            " the\n",
            " and\n",
            "\n",
            "\n"
          ],
          "name": "stdout"
        }
      ]
    },
    {
      "cell_type": "code",
      "metadata": {
        "id": "d8Dj4IWkzxdp",
        "colab_type": "code",
        "colab": {}
      },
      "source": [
        "# import keras modules\n",
        "from keras.models import Sequential\n",
        "from keras.layers import Embedding\n",
        "from keras.layers import Conv1D\n",
        "from keras.layers import MaxPooling1D\n",
        "from keras.layers import Flatten\n",
        "from keras.layers import Dense \n",
        "from keras.layers import LSTM\n",
        "from keras.layers import Dropout"
      ],
      "execution_count": 137,
      "outputs": []
    },
    {
      "cell_type": "code",
      "metadata": {
        "id": "XfVOuqj9z3Pp",
        "colab_type": "code",
        "colab": {}
      },
      "source": [
        "from sklearn.model_selection import train_test_split\n",
        "\n",
        "Xwords_train, Xwords_test, ywords_train, ywords_test = train_test_split(corpus, y, test_size = 0.2, random_state = 0)"
      ],
      "execution_count": 138,
      "outputs": []
    },
    {
      "cell_type": "code",
      "metadata": {
        "id": "IvihnS8Ez6Yh",
        "colab_type": "code",
        "colab": {}
      },
      "source": [
        "from keras.preprocessing.text import Tokenizer\n",
        "\n",
        "tokenizer = Tokenizer(num_words = 2000)\n",
        "tokenizer.fit_on_texts(Xwords_train)\n",
        "\n",
        "Xwords_train = tokenizer.texts_to_sequences(Xwords_train)\n",
        "Xwords_test = tokenizer.texts_to_sequences(Xwords_test)"
      ],
      "execution_count": 139,
      "outputs": []
    },
    {
      "cell_type": "code",
      "metadata": {
        "id": "4b6oGMzez8pt",
        "colab_type": "code",
        "colab": {
          "base_uri": "https://localhost:8080/",
          "height": 34
        },
        "outputId": "974339b5-d6ab-408f-87ec-7144766f0fce"
      },
      "source": [
        "\n",
        "vocab = len(tokenizer.word_index) + 1   # Add one for the zero indexing\n",
        "vocab"
      ],
      "execution_count": 140,
      "outputs": [
        {
          "output_type": "execute_result",
          "data": {
            "text/plain": [
              "1536"
            ]
          },
          "metadata": {
            "tags": []
          },
          "execution_count": 140
        }
      ]
    },
    {
      "cell_type": "code",
      "metadata": {
        "id": "WYi6Cgajz-zT",
        "colab_type": "code",
        "colab": {}
      },
      "source": [
        "\n",
        "# introducing padding for even length sequences\n",
        "\n",
        "from keras.preprocessing.sequence import pad_sequences\n",
        "\n",
        "Xwords_train = pad_sequences(Xwords_train, padding = 'post', maxlen = 100)\n",
        "Xwords_test = pad_sequences(Xwords_test, padding = 'post', maxlen = 100)"
      ],
      "execution_count": 141,
      "outputs": []
    },
    {
      "cell_type": "code",
      "metadata": {
        "id": "IUEGDzsT0BJO",
        "colab_type": "code",
        "colab": {
          "base_uri": "https://localhost:8080/",
          "height": 85
        },
        "outputId": "f8122de4-1d8a-4de7-9592-cb6400b6bb39"
      },
      "source": [
        "\n",
        "print(Xwords_train.shape)\n",
        "print(Xwords_test.shape)\n",
        "print(ywords_train.shape)\n",
        "print(ywords_test.shape)"
      ],
      "execution_count": 142,
      "outputs": [
        {
          "output_type": "stream",
          "text": [
            "(3200, 100)\n",
            "(801, 100)\n",
            "(3200,)\n",
            "(801,)\n"
          ],
          "name": "stdout"
        }
      ]
    },
    {
      "cell_type": "code",
      "metadata": {
        "id": "zAySbBNV0DqB",
        "colab_type": "code",
        "colab": {}
      },
      "source": [
        "\n",
        "# Importing Keras dependencies\n",
        "\n",
        "from sklearn.model_selection import GridSearchCV\n",
        "from keras.wrappers.scikit_learn import KerasClassifier\n",
        "from keras.models import Sequential\n",
        "from keras.layers import Embedding\n",
        "from keras.layers import Conv1D\n",
        "from keras.layers import MaxPooling1D\n",
        "from keras.layers import Flatten\n",
        "from keras.layers import Dense \n",
        "from keras.layers import LSTM\n",
        "from keras.layers import Dropout"
      ],
      "execution_count": 143,
      "outputs": []
    },
    {
      "cell_type": "code",
      "metadata": {
        "id": "UvPlPAxC0GGT",
        "colab_type": "code",
        "colab": {}
      },
      "source": [
        "\n",
        "# Initialize CNN\n",
        "cnn = Sequential()\n",
        "\n",
        "# Common lengths for embeddings (output_dim) are between 100 and 300. \n",
        "# Anything less than 100 isn't enough to represent the vocabulary properly\n",
        "# Input length is maxlen of the padded sequence\n",
        "\n",
        "cnn.add(Embedding(input_dim = vocab, output_dim = 100, input_length = 100))\n",
        "cnn.add(Conv1D(128, 5, activation='relu'))   # filters = 128, kernel size = 5 \n",
        "cnn.add(MaxPooling1D(pool_size = 2))\n",
        "cnn.add(Flatten())\n",
        "cnn.add(Dense(units = 256, activation = 'relu'))    # Fully Connected Layer\n",
        "cnn.add(Dense(units = 1, activation = 'sigmoid'))   # Output layer\n",
        "\n",
        "cnn.compile(optimizer = 'adam', loss = 'binary_crossentropy', metrics = ['accuracy'])"
      ],
      "execution_count": 144,
      "outputs": []
    },
    {
      "cell_type": "code",
      "metadata": {
        "id": "AimnghDJ0Iqp",
        "colab_type": "code",
        "colab": {
          "base_uri": "https://localhost:8080/",
          "height": 445
        },
        "outputId": "9fd1e580-a699-46bd-c9be-6c00c3a8d829"
      },
      "source": [
        "cnn.fit(Xwords_train, ywords_train, \n",
        "          epochs=10, batch_size=128, verbose=1, \n",
        "          validation_data=(Xwords_test, ywords_test))"
      ],
      "execution_count": 145,
      "outputs": [
        {
          "output_type": "stream",
          "text": [
            "/usr/local/lib/python3.6/dist-packages/tensorflow/python/framework/indexed_slices.py:434: UserWarning: Converting sparse IndexedSlices to a dense Tensor of unknown shape. This may consume a large amount of memory.\n",
            "  \"Converting sparse IndexedSlices to a dense Tensor of unknown shape. \"\n"
          ],
          "name": "stderr"
        },
        {
          "output_type": "stream",
          "text": [
            "Train on 3200 samples, validate on 801 samples\n",
            "Epoch 1/10\n",
            "3200/3200 [==============================] - 4s 1ms/step - loss: 0.6516 - accuracy: 0.6381 - val_loss: 0.6311 - val_accuracy: 0.6305\n",
            "Epoch 2/10\n",
            "3200/3200 [==============================] - 4s 1ms/step - loss: 0.5706 - accuracy: 0.6753 - val_loss: 0.5519 - val_accuracy: 0.6879\n",
            "Epoch 3/10\n",
            "3200/3200 [==============================] - 4s 1ms/step - loss: 0.4357 - accuracy: 0.7875 - val_loss: 0.4955 - val_accuracy: 0.7678\n",
            "Epoch 4/10\n",
            "3200/3200 [==============================] - 4s 1ms/step - loss: 0.3390 - accuracy: 0.8400 - val_loss: 0.5236 - val_accuracy: 0.7516\n",
            "Epoch 5/10\n",
            "3200/3200 [==============================] - 4s 1ms/step - loss: 0.2692 - accuracy: 0.8753 - val_loss: 0.5475 - val_accuracy: 0.7678\n",
            "Epoch 6/10\n",
            "3200/3200 [==============================] - 4s 1ms/step - loss: 0.2394 - accuracy: 0.8881 - val_loss: 0.5939 - val_accuracy: 0.7578\n",
            "Epoch 7/10\n",
            "3200/3200 [==============================] - 4s 1ms/step - loss: 0.2071 - accuracy: 0.9072 - val_loss: 0.6075 - val_accuracy: 0.7828\n",
            "Epoch 8/10\n",
            "3200/3200 [==============================] - 4s 1ms/step - loss: 0.1862 - accuracy: 0.9144 - val_loss: 0.6486 - val_accuracy: 0.7690\n",
            "Epoch 9/10\n",
            "3200/3200 [==============================] - 4s 1ms/step - loss: 0.1741 - accuracy: 0.9169 - val_loss: 0.6954 - val_accuracy: 0.7815\n",
            "Epoch 10/10\n",
            "3200/3200 [==============================] - 4s 1ms/step - loss: 0.1708 - accuracy: 0.9162 - val_loss: 0.7200 - val_accuracy: 0.7628\n"
          ],
          "name": "stdout"
        },
        {
          "output_type": "execute_result",
          "data": {
            "text/plain": [
              "<keras.callbacks.callbacks.History at 0x7fe952f58ac8>"
            ]
          },
          "metadata": {
            "tags": []
          },
          "execution_count": 145
        }
      ]
    },
    {
      "cell_type": "code",
      "metadata": {
        "id": "ccxD6GRr0LIC",
        "colab_type": "code",
        "colab": {
          "base_uri": "https://localhost:8080/",
          "height": 51
        },
        "outputId": "e2efe5e7-beee-4dc9-ecea-e228392a737e"
      },
      "source": [
        "scores = cnn.evaluate(Xwords_test, ywords_test, verbose=1)\n",
        "print(\"Accuracy:\", scores[1])"
      ],
      "execution_count": 146,
      "outputs": [
        {
          "output_type": "stream",
          "text": [
            "801/801 [==============================] - 0s 341us/step\n",
            "Accuracy: 0.7627965211868286\n"
          ],
          "name": "stdout"
        }
      ]
    },
    {
      "cell_type": "code",
      "metadata": {
        "id": "NGqyB0S40Vla",
        "colab_type": "code",
        "colab": {}
      },
      "source": [
        "\n",
        "# Defining function to create model\n",
        "# After all steps of grid search are completed, the best parameters are fitted into this function\n",
        "\n",
        "from sklearn.model_selection import GridSearchCV\n",
        "from keras.wrappers.scikit_learn import KerasClassifier\n",
        "from keras.constraints import maxnorm\n",
        "\n",
        "def model_cnn_create(neurons = 256, optimizer = 'RMSprop', activation = 'softmax', kernel_init = 'uniform',\n",
        "                 dropout_rate = 0.1, weight_constraint = 3, nb_filters = 128, kernel_size = 3):\n",
        "    \n",
        "    model = Sequential()\n",
        "    model.add(Embedding(input_dim = vocab, output_dim = 100, input_length = 100))\n",
        "    model.add(Conv1D(nb_filters, kernel_size, activation = 'relu'))   \n",
        "    model.add(MaxPooling1D(pool_size = 2))\n",
        "    model.add(Flatten())\n",
        "    model.add(Dense(units = neurons, activation = activation, kernel_init = kernel_init, kernel_constraint=maxnorm(weight_constraint)))\n",
        "    model.add(Dense(units = 1, activation = 'sigmoid', kernel_init = kernel_init))   \n",
        "    model.compile(optimizer = optimizer, loss = 'binary_crossentropy', metrics = ['accuracy'])\n",
        "    "
      ],
      "execution_count": 147,
      "outputs": []
    },
    {
      "cell_type": "code",
      "metadata": {
        "id": "5k8sdoPB0Y9m",
        "colab_type": "code",
        "colab": {}
      },
      "source": [
        "\n",
        "# Initialize base model\n",
        "\n",
        "cnn_lstm = Sequential()\n",
        "\n",
        "cnn_lstm.add(Embedding(input_dim = vocab, output_dim = 100, input_length = 100))\n",
        "cnn_lstm.add(Conv1D(64, 5, activation = 'relu'))\n",
        "cnn_lstm.add(MaxPooling1D(pool_size = 4))\n",
        "cnn_lstm.add(LSTM(10))\n",
        "cnn_lstm.add(Dense(units = 1, activation = 'sigmoid'))\n",
        "cnn_lstm.compile(optimizer = 'adam', loss = 'binary_crossentropy', metrics = ['accuracy'])"
      ],
      "execution_count": 148,
      "outputs": []
    },
    {
      "cell_type": "code",
      "metadata": {
        "id": "E43O7BGk0cIu",
        "colab_type": "code",
        "colab": {
          "base_uri": "https://localhost:8080/",
          "height": 445
        },
        "outputId": "d5e728d6-a9d6-4e3a-a03c-485a792ecffe"
      },
      "source": [
        "\n",
        "cnn_lstm.fit(Xwords_train, ywords_train, \n",
        "          epochs=10, batch_size=64, verbose=1, \n",
        "          validation_data=(Xwords_test, ywords_test))"
      ],
      "execution_count": 149,
      "outputs": [
        {
          "output_type": "stream",
          "text": [
            "/usr/local/lib/python3.6/dist-packages/tensorflow/python/framework/indexed_slices.py:434: UserWarning: Converting sparse IndexedSlices to a dense Tensor of unknown shape. This may consume a large amount of memory.\n",
            "  \"Converting sparse IndexedSlices to a dense Tensor of unknown shape. \"\n"
          ],
          "name": "stderr"
        },
        {
          "output_type": "stream",
          "text": [
            "Train on 3200 samples, validate on 801 samples\n",
            "Epoch 1/10\n",
            "3200/3200 [==============================] - 3s 911us/step - loss: 0.6591 - accuracy: 0.6325 - val_loss: 0.6587 - val_accuracy: 0.6305\n",
            "Epoch 2/10\n",
            "3200/3200 [==============================] - 3s 794us/step - loss: 0.6548 - accuracy: 0.6388 - val_loss: 0.6587 - val_accuracy: 0.6305\n",
            "Epoch 3/10\n",
            "3200/3200 [==============================] - 2s 780us/step - loss: 0.6546 - accuracy: 0.6388 - val_loss: 0.6587 - val_accuracy: 0.6305\n",
            "Epoch 4/10\n",
            "3200/3200 [==============================] - 3s 782us/step - loss: 0.6547 - accuracy: 0.6388 - val_loss: 0.6590 - val_accuracy: 0.6305\n",
            "Epoch 5/10\n",
            "3200/3200 [==============================] - 3s 795us/step - loss: 0.6465 - accuracy: 0.6388 - val_loss: 0.6007 - val_accuracy: 0.6305\n",
            "Epoch 6/10\n",
            "3200/3200 [==============================] - 3s 814us/step - loss: 0.5657 - accuracy: 0.7287 - val_loss: 0.5831 - val_accuracy: 0.7303\n",
            "Epoch 7/10\n",
            "3200/3200 [==============================] - 3s 795us/step - loss: 0.5122 - accuracy: 0.7869 - val_loss: 0.5515 - val_accuracy: 0.7566\n",
            "Epoch 8/10\n",
            "3200/3200 [==============================] - 3s 792us/step - loss: 0.4637 - accuracy: 0.8163 - val_loss: 0.5394 - val_accuracy: 0.7603\n",
            "Epoch 9/10\n",
            "3200/3200 [==============================] - 3s 803us/step - loss: 0.4312 - accuracy: 0.8191 - val_loss: 0.5475 - val_accuracy: 0.7466\n",
            "Epoch 10/10\n",
            "3200/3200 [==============================] - 2s 776us/step - loss: 0.4043 - accuracy: 0.8238 - val_loss: 0.5741 - val_accuracy: 0.7640\n"
          ],
          "name": "stdout"
        },
        {
          "output_type": "execute_result",
          "data": {
            "text/plain": [
              "<keras.callbacks.callbacks.History at 0x7fe952dddc18>"
            ]
          },
          "metadata": {
            "tags": []
          },
          "execution_count": 149
        }
      ]
    },
    {
      "cell_type": "code",
      "metadata": {
        "id": "dfBmbr184W0j",
        "colab_type": "code",
        "colab": {
          "base_uri": "https://localhost:8080/",
          "height": 51
        },
        "outputId": "83f04eff-0aec-4eeb-abfe-645045095471"
      },
      "source": [
        "\n",
        "scores = cnn_lstm.evaluate(Xwords_test, ywords_test, verbose=1)\n",
        "print(\"Accuracy:\", scores[1])"
      ],
      "execution_count": 150,
      "outputs": [
        {
          "output_type": "stream",
          "text": [
            "801/801 [==============================] - 0s 208us/step\n",
            "Accuracy: 0.7640449404716492\n"
          ],
          "name": "stdout"
        }
      ]
    },
    {
      "cell_type": "code",
      "metadata": {
        "id": "sgmGbyum4cbT",
        "colab_type": "code",
        "colab": {}
      },
      "source": [
        "cnn = Sequential()\n",
        "cnn.add(Embedding(input_dim = vocab, output_dim = 100, input_length = 100))\n",
        "cnn.add(Dropout(0.1))\n",
        "cnn.add(Conv1D(128, 3, activation = 'relu'))   \n",
        "cnn.add(MaxPooling1D(pool_size = 2))\n",
        "cnn.add(Flatten())\n",
        "cnn.add(Dense(units = 256, activation = 'softmax', kernel_initializer = 'uniform', kernel_constraint=maxnorm(3)))\n",
        "cnn.add(Dense(units = 1, activation = 'sigmoid', kernel_initializer = 'uniform'))   \n",
        "cnn.compile(optimizer = 'RMSprop', loss = 'binary_crossentropy', metrics = ['accuracy'])"
      ],
      "execution_count": 151,
      "outputs": []
    },
    {
      "cell_type": "code",
      "metadata": {
        "id": "1qNTmPcb4kR2",
        "colab_type": "code",
        "colab": {
          "base_uri": "https://localhost:8080/",
          "height": 428
        },
        "outputId": "4a9738cc-2460-4bcc-cc19-d357dcdef01d"
      },
      "source": [
        "\n",
        "history = cnn.fit(Xwords_train, ywords_train, \n",
        "          epochs = 10, batch_size = 40, verbose = 1, \n",
        "          validation_data = (Xwords_test, ywords_test))"
      ],
      "execution_count": 152,
      "outputs": [
        {
          "output_type": "stream",
          "text": [
            "/usr/local/lib/python3.6/dist-packages/tensorflow/python/framework/indexed_slices.py:434: UserWarning: Converting sparse IndexedSlices to a dense Tensor of unknown shape. This may consume a large amount of memory.\n",
            "  \"Converting sparse IndexedSlices to a dense Tensor of unknown shape. \"\n"
          ],
          "name": "stderr"
        },
        {
          "output_type": "stream",
          "text": [
            "Train on 3200 samples, validate on 801 samples\n",
            "Epoch 1/10\n",
            "3200/3200 [==============================] - 5s 1ms/step - loss: 0.6767 - accuracy: 0.6344 - val_loss: 0.6718 - val_accuracy: 0.6305\n",
            "Epoch 2/10\n",
            "3200/3200 [==============================] - 5s 1ms/step - loss: 0.6661 - accuracy: 0.6388 - val_loss: 0.6649 - val_accuracy: 0.6305\n",
            "Epoch 3/10\n",
            "3200/3200 [==============================] - 5s 1ms/step - loss: 0.6599 - accuracy: 0.6388 - val_loss: 0.6611 - val_accuracy: 0.6305\n",
            "Epoch 4/10\n",
            "3200/3200 [==============================] - 5s 1ms/step - loss: 0.6566 - accuracy: 0.6388 - val_loss: 0.6595 - val_accuracy: 0.6305\n",
            "Epoch 5/10\n",
            "3200/3200 [==============================] - 5s 1ms/step - loss: 0.6553 - accuracy: 0.6388 - val_loss: 0.6589 - val_accuracy: 0.6305\n",
            "Epoch 6/10\n",
            "3200/3200 [==============================] - 5s 1ms/step - loss: 0.6546 - accuracy: 0.6388 - val_loss: 0.6587 - val_accuracy: 0.6305\n",
            "Epoch 7/10\n",
            "3200/3200 [==============================] - 5s 1ms/step - loss: 0.6544 - accuracy: 0.6388 - val_loss: 0.6587 - val_accuracy: 0.6305\n",
            "Epoch 8/10\n",
            "3200/3200 [==============================] - 5s 1ms/step - loss: 0.6543 - accuracy: 0.6388 - val_loss: 0.6587 - val_accuracy: 0.6305\n",
            "Epoch 9/10\n",
            "3200/3200 [==============================] - 5s 1ms/step - loss: 0.6542 - accuracy: 0.6388 - val_loss: 0.6588 - val_accuracy: 0.6305\n",
            "Epoch 10/10\n",
            "3200/3200 [==============================] - 5s 1ms/step - loss: 0.6542 - accuracy: 0.6388 - val_loss: 0.6588 - val_accuracy: 0.6305\n"
          ],
          "name": "stdout"
        }
      ]
    },
    {
      "cell_type": "code",
      "metadata": {
        "id": "UYZiIH8Z4nPx",
        "colab_type": "code",
        "colab": {
          "base_uri": "https://localhost:8080/",
          "height": 325
        },
        "outputId": "bc9b43bb-8b6e-445b-899c-4ca254bbaf93"
      },
      "source": [
        "plt.plot(history.history['accuracy'])\n",
        "plt.plot(history.history['val_accuracy'])\n",
        "plt.title('Model Accuracy Plot')\n",
        "plt.xlabel('Epochs')\n",
        "plt.ylabel('Accuracy')\n",
        "plt.legend(['Train', 'Test'],loc = 'upper left')\n",
        "plt.show()"
      ],
      "execution_count": 153,
      "outputs": [
        {
          "output_type": "display_data",
          "data": {
            "image/png": "[encoded data removed]",
            "text/plain": [
              "<Figure size 432x288 with 1 Axes>"
            ]
          },
          "metadata": {
            "tags": []
          }
        }
      ]
    },
    {
      "cell_type": "code",
      "metadata": {
        "id": "2ADwF1yp4rop",
        "colab_type": "code",
        "colab": {}
      },
      "source": [
        "\n",
        "cnn_lstm = Sequential()\n",
        "cnn_lstm.add(Embedding(input_dim = vocab, output_dim = 100, input_length = 100))\n",
        "cnn_lstm.add(Dropout(0.2))\n",
        "cnn_lstm.add(Conv1D(128, 3, activation = 'relu'))\n",
        "cnn_lstm.add(MaxPooling1D(pool_size = 4))\n",
        "cnn_lstm.add(LSTM(10))\n",
        "cnn_lstm.add(Dense(units = 1, kernel_initializer = 'he_uniform', activation = 'sigmoid')) \n",
        "cnn_lstm.compile(optimizer = 'RMSprop', loss = 'binary_crossentropy', metrics = ['accuracy'])"
      ],
      "execution_count": 154,
      "outputs": []
    },
    {
      "cell_type": "code",
      "metadata": {
        "id": "W7PMZqbq420W",
        "colab_type": "code",
        "colab": {
          "base_uri": "https://localhost:8080/",
          "height": 428
        },
        "outputId": "3ecbec4b-9212-41fd-b7f2-325632e155f2"
      },
      "source": [
        "lstm_history = cnn_lstm.fit(Xwords_train, ywords_train, \n",
        "          epochs = 10, batch_size = 64, verbose = 1, \n",
        "          validation_data = (Xwords_test, ywords_test))"
      ],
      "execution_count": 155,
      "outputs": [
        {
          "output_type": "stream",
          "text": [
            "/usr/local/lib/python3.6/dist-packages/tensorflow/python/framework/indexed_slices.py:434: UserWarning: Converting sparse IndexedSlices to a dense Tensor of unknown shape. This may consume a large amount of memory.\n",
            "  \"Converting sparse IndexedSlices to a dense Tensor of unknown shape. \"\n"
          ],
          "name": "stderr"
        },
        {
          "output_type": "stream",
          "text": [
            "Train on 3200 samples, validate on 801 samples\n",
            "Epoch 1/10\n",
            "3200/3200 [==============================] - 3s 1ms/step - loss: 0.6572 - accuracy: 0.6388 - val_loss: 0.6587 - val_accuracy: 0.6305\n",
            "Epoch 2/10\n",
            "3200/3200 [==============================] - 3s 975us/step - loss: 0.6554 - accuracy: 0.6388 - val_loss: 0.6592 - val_accuracy: 0.6305\n",
            "Epoch 3/10\n",
            "3200/3200 [==============================] - 3s 961us/step - loss: 0.6548 - accuracy: 0.6388 - val_loss: 0.6589 - val_accuracy: 0.6305\n",
            "Epoch 4/10\n",
            "3200/3200 [==============================] - 3s 959us/step - loss: 0.6215 - accuracy: 0.6591 - val_loss: 0.5515 - val_accuracy: 0.7516\n",
            "Epoch 5/10\n",
            "3200/3200 [==============================] - 3s 959us/step - loss: 0.5115 - accuracy: 0.7738 - val_loss: 0.5379 - val_accuracy: 0.7740\n",
            "Epoch 6/10\n",
            "3200/3200 [==============================] - 3s 970us/step - loss: 0.4615 - accuracy: 0.7987 - val_loss: 0.4810 - val_accuracy: 0.7778\n",
            "Epoch 7/10\n",
            "3200/3200 [==============================] - 3s 956us/step - loss: 0.4199 - accuracy: 0.8175 - val_loss: 0.4695 - val_accuracy: 0.7803\n",
            "Epoch 8/10\n",
            "3200/3200 [==============================] - 3s 978us/step - loss: 0.3884 - accuracy: 0.8363 - val_loss: 0.4773 - val_accuracy: 0.7803\n",
            "Epoch 9/10\n",
            "3200/3200 [==============================] - 3s 992us/step - loss: 0.3676 - accuracy: 0.8394 - val_loss: 0.4934 - val_accuracy: 0.7765\n",
            "Epoch 10/10\n",
            "3200/3200 [==============================] - 3s 969us/step - loss: 0.3476 - accuracy: 0.8566 - val_loss: 0.5092 - val_accuracy: 0.7890\n"
          ],
          "name": "stdout"
        }
      ]
    },
    {
      "cell_type": "code",
      "metadata": {
        "id": "R4qdzmW245Yq",
        "colab_type": "code",
        "colab": {
          "base_uri": "https://localhost:8080/",
          "height": 325
        },
        "outputId": "d3f98a8e-6fc9-4d90-bd9b-2e2647c5541c"
      },
      "source": [
        "plt.plot(lstm_history.history['accuracy'])\n",
        "plt.plot(lstm_history.history['val_accuracy'])\n",
        "plt.title('Model Accuracy Plot')\n",
        "plt.xlabel('Epochs')\n",
        "plt.ylabel('Accuracy')\n",
        "plt.legend(['Train', 'Test'],loc = 'upper left')\n",
        "plt.show()"
      ],
      "execution_count": 156,
      "outputs": [
        {
          "output_type": "display_data",
          "data": {
            "image/png": "[encoded data removed]",
            "text/plain": [
              "<Figure size 432x288 with 1 Axes>"
            ]
          },
          "metadata": {
            "tags": []
          }
        }
      ]
    },
    {
      "cell_type": "code",
      "metadata": {
        "id": "E2F4Mff14-i9",
        "colab_type": "code",
        "colab": {}
      },
      "source": [
        ""
      ],
      "execution_count": 156,
      "outputs": []
    }
  ]
}