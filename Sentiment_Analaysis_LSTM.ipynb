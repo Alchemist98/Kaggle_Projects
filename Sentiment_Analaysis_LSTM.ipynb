{
  "nbformat": 4,
  "nbformat_minor": 0,
  "metadata": {
    "colab": {
      "name": "Sentiment_Analaysis_LSTM.ipynb",
      "provenance": [],
      "authorship_tag": "ABX9TyP11TKl7pU7ZlNABVt/Flqj",
      "include_colab_link": true
    },
    "kernelspec": {
      "name": "python3",
      "display_name": "Python 3"
    },
    "accelerator": "TPU"
  },
  "cells": [
    {
      "cell_type": "markdown",
      "metadata": {
        "id": "view-in-github",
        "colab_type": "text"
      },
      "source": [
        "<a href=\"https://colab.research.google.com/github/Alchemist98/Kaggle_Projects/blob/master/Sentiment_Analaysis_LSTM.ipynb\" target=\"_parent\"><img src=\"https://colab.research.google.com/assets/colab-badge.svg\" alt=\"Open In Colab\"/></a>"
      ]
    },
    {
      "cell_type": "code",
      "metadata": {
        "id": "2Hej5Jgjr7a4",
        "colab_type": "code",
        "colab": {}
      },
      "source": [
        "import numpy as np\n",
        "import keras\n",
        "from keras.layers import Dense,LSTM,Dropout\n",
        "from keras.datasets import imdb\n",
        "from keras.models import Sequential, load_model\n",
        "from keras.layers.embeddings import Embedding\n",
        "from keras.preprocessing import sequence\n",
        "import re\n",
        "import nltk \n",
        "from nltk.tokenize import word_tokenize"
      ],
      "execution_count": 40,
      "outputs": []
    },
    {
      "cell_type": "code",
      "metadata": {
        "id": "BaLTmf3XsJYT",
        "colab_type": "code",
        "colab": {}
      },
      "source": [
        "vocab_size = 5000\n",
        "(X_train,y_train), (X_test,y_test) = imdb.load_data(num_words=vocab_size)"
      ],
      "execution_count": 41,
      "outputs": []
    },
    {
      "cell_type": "code",
      "metadata": {
        "id": "WLgGcdvOtYri",
        "colab_type": "code",
        "colab": {
          "base_uri": "https://localhost:8080/",
          "height": 71
        },
        "outputId": "7442fed1-e33a-41aa-d5d4-4478e2ba6f8a"
      },
      "source": [
        "print(\"Review: \",X_train[1])\n",
        "print(\"Label: \", y_train[1])"
      ],
      "execution_count": 42,
      "outputs": [
        {
          "output_type": "stream",
          "text": [
            "Review:  [1, 194, 1153, 194, 2, 78, 228, 5, 6, 1463, 4369, 2, 134, 26, 4, 715, 8, 118, 1634, 14, 394, 20, 13, 119, 954, 189, 102, 5, 207, 110, 3103, 21, 14, 69, 188, 8, 30, 23, 7, 4, 249, 126, 93, 4, 114, 9, 2300, 1523, 5, 647, 4, 116, 9, 35, 2, 4, 229, 9, 340, 1322, 4, 118, 9, 4, 130, 4901, 19, 4, 1002, 5, 89, 29, 952, 46, 37, 4, 455, 9, 45, 43, 38, 1543, 1905, 398, 4, 1649, 26, 2, 5, 163, 11, 3215, 2, 4, 1153, 9, 194, 775, 7, 2, 2, 349, 2637, 148, 605, 2, 2, 15, 123, 125, 68, 2, 2, 15, 349, 165, 4362, 98, 5, 4, 228, 9, 43, 2, 1157, 15, 299, 120, 5, 120, 174, 11, 220, 175, 136, 50, 9, 4373, 228, 2, 5, 2, 656, 245, 2350, 5, 4, 2, 131, 152, 491, 18, 2, 32, 2, 1212, 14, 9, 6, 371, 78, 22, 625, 64, 1382, 9, 8, 168, 145, 23, 4, 1690, 15, 16, 4, 1355, 5, 28, 6, 52, 154, 462, 33, 89, 78, 285, 16, 145, 95]\n",
            "Label:  0\n"
          ],
          "name": "stdout"
        }
      ]
    },
    {
      "cell_type": "code",
      "metadata": {
        "id": "gmcYbAhGuTY2",
        "colab_type": "code",
        "colab": {
          "base_uri": "https://localhost:8080/",
          "height": 88
        },
        "outputId": "11a015d8-1a98-497d-f297-5b83322ce72c"
      },
      "source": [
        "word2id = imdb.get_word_index()\n",
        "id2word = {id:word for word,id in word2id.items()}\n",
        "review = []\n",
        "print('=========Review==============')\n",
        "for i in X_train[5]:\n",
        "  X = id2word.get(i,' ')\n",
        "  review.append(X)\n",
        "print(review)\n",
        "print('Label: ',y_train[5])"
      ],
      "execution_count": 43,
      "outputs": [
        {
          "output_type": "stream",
          "text": [
            "=========Review==============\n",
            "['the', 'effort', 'still', 'been', 'that', 'usually', 'makes', 'for', 'of', 'finished', 'and', 'ended', 'and', 'an', 'because', 'before', 'if', 'just', 'though', 'something', 'know', 'novel', 'female', 'i', 'i', 'slowly', 'lot', 'of', 'above', 'and', 'with', 'connect', 'in', 'of', 'script', 'their', 'that', 'out', 'end', 'his', 'and', 'i', 'i']\n",
            "Label:  0\n"
          ],
          "name": "stdout"
        }
      ]
    },
    {
      "cell_type": "code",
      "metadata": {
        "id": "Y_K1uk8SuwPG",
        "colab_type": "code",
        "colab": {
          "base_uri": "https://localhost:8080/",
          "height": 34
        },
        "outputId": "1c55385d-f4c5-4735-ace3-b4d1fa184625"
      },
      "source": [
        "print('Maximum review length: {}'.format(len(max((X_train+X_test), key=len))))"
      ],
      "execution_count": 44,
      "outputs": [
        {
          "output_type": "stream",
          "text": [
            "Maximum review length: 2697\n"
          ],
          "name": "stdout"
        }
      ]
    },
    {
      "cell_type": "code",
      "metadata": {
        "id": "R88KcV0Jy4Kl",
        "colab_type": "code",
        "colab": {
          "base_uri": "https://localhost:8080/",
          "height": 34
        },
        "outputId": "d1688ba1-d025-4c5e-8680-b63114fd3cbc"
      },
      "source": [
        "print('Minimum review length: {}'.format(len(min((X_train+X_test), key=len))))"
      ],
      "execution_count": 45,
      "outputs": [
        {
          "output_type": "stream",
          "text": [
            "Minimum review length: 70\n"
          ],
          "name": "stdout"
        }
      ]
    },
    {
      "cell_type": "code",
      "metadata": {
        "id": "9ysvzCivzCgs",
        "colab_type": "code",
        "colab": {}
      },
      "source": [
        "max_rev_len = 500\n",
        "X_train = sequence.pad_sequences(X_train,maxlen=max_rev_len,padding='post')\n",
        "X_test = sequence.pad_sequences(X_test,maxlen=max_rev_len,padding='post')"
      ],
      "execution_count": 46,
      "outputs": []
    },
    {
      "cell_type": "code",
      "metadata": {
        "id": "iSzVMnMyz-wD",
        "colab_type": "code",
        "colab": {}
      },
      "source": [
        "embedding_vector_length = 32"
      ],
      "execution_count": 47,
      "outputs": []
    },
    {
      "cell_type": "code",
      "metadata": {
        "id": "G1Kq57qL0yDJ",
        "colab_type": "code",
        "colab": {}
      },
      "source": [
        "model = Sequential()"
      ],
      "execution_count": 48,
      "outputs": []
    },
    {
      "cell_type": "code",
      "metadata": {
        "id": "jYqeLEZJ0z2_",
        "colab_type": "code",
        "colab": {}
      },
      "source": [
        "model.add(Embedding(vocab_size,embedding_vector_length,input_length=max_rev_len))\n",
        "model.add(Dropout(0.2))\n",
        "model.add(LSTM(100))\n",
        "model.add(Dropout(0.2))\n",
        "model.add(Dense(1,activation='sigmoid'))"
      ],
      "execution_count": 49,
      "outputs": []
    },
    {
      "cell_type": "code",
      "metadata": {
        "id": "TzkxrhsE1I74",
        "colab_type": "code",
        "colab": {}
      },
      "source": [
        "model.compile(loss='binary_crossentropy',optimizer='adam',metrics=['accuracy'])"
      ],
      "execution_count": 50,
      "outputs": []
    },
    {
      "cell_type": "code",
      "metadata": {
        "id": "UhMbR1Kg1ST8",
        "colab_type": "code",
        "colab": {
          "base_uri": "https://localhost:8080/",
          "height": 323
        },
        "outputId": "e30186ce-df90-4af4-9abd-46b567eaefb2"
      },
      "source": [
        "model.summary()"
      ],
      "execution_count": 51,
      "outputs": [
        {
          "output_type": "stream",
          "text": [
            "Model: \"sequential_4\"\n",
            "_________________________________________________________________\n",
            "Layer (type)                 Output Shape              Param #   \n",
            "=================================================================\n",
            "embedding_4 (Embedding)      (None, 500, 32)           160000    \n",
            "_________________________________________________________________\n",
            "dropout_7 (Dropout)          (None, 500, 32)           0         \n",
            "_________________________________________________________________\n",
            "lstm_4 (LSTM)                (None, 100)               53200     \n",
            "_________________________________________________________________\n",
            "dropout_8 (Dropout)          (None, 100)               0         \n",
            "_________________________________________________________________\n",
            "dense_4 (Dense)              (None, 1)                 101       \n",
            "=================================================================\n",
            "Total params: 213,301\n",
            "Trainable params: 213,301\n",
            "Non-trainable params: 0\n",
            "_________________________________________________________________\n"
          ],
          "name": "stdout"
        }
      ]
    },
    {
      "cell_type": "code",
      "metadata": {
        "id": "JepxlaWK1TXr",
        "colab_type": "code",
        "colab": {
          "base_uri": "https://localhost:8080/",
          "height": 615
        },
        "outputId": "c0f2d119-d6e0-4252-e168-54374ed96bc6"
      },
      "source": [
        "model.fit(X_train,y_train,epochs=15,batch_size=128,validation_data=(X_test,y_test))"
      ],
      "execution_count": 52,
      "outputs": [
        {
          "output_type": "stream",
          "text": [
            "/usr/local/lib/python3.6/dist-packages/tensorflow/python/framework/indexed_slices.py:434: UserWarning: Converting sparse IndexedSlices to a dense Tensor of unknown shape. This may consume a large amount of memory.\n",
            "  \"Converting sparse IndexedSlices to a dense Tensor of unknown shape. \"\n"
          ],
          "name": "stderr"
        },
        {
          "output_type": "stream",
          "text": [
            "Train on 25000 samples, validate on 25000 samples\n",
            "Epoch 1/15\n",
            "25000/25000 [==============================] - 253s 10ms/step - loss: 0.6932 - accuracy: 0.5070 - val_loss: 0.6927 - val_accuracy: 0.5009\n",
            "Epoch 2/15\n",
            "25000/25000 [==============================] - 257s 10ms/step - loss: 0.6899 - accuracy: 0.5127 - val_loss: 0.6893 - val_accuracy: 0.5119\n",
            "Epoch 3/15\n",
            "25000/25000 [==============================] - 257s 10ms/step - loss: 0.6799 - accuracy: 0.5251 - val_loss: 0.6877 - val_accuracy: 0.5135\n",
            "Epoch 4/15\n",
            "25000/25000 [==============================] - 257s 10ms/step - loss: 0.6669 - accuracy: 0.5350 - val_loss: 0.6961 - val_accuracy: 0.5064\n",
            "Epoch 5/15\n",
            "25000/25000 [==============================] - 257s 10ms/step - loss: 0.6540 - accuracy: 0.5388 - val_loss: 0.6964 - val_accuracy: 0.5142\n",
            "Epoch 6/15\n",
            "25000/25000 [==============================] - 258s 10ms/step - loss: 0.6431 - accuracy: 0.5421 - val_loss: 0.7162 - val_accuracy: 0.5079\n",
            "Epoch 7/15\n",
            "25000/25000 [==============================] - 257s 10ms/step - loss: 0.6414 - accuracy: 0.5488 - val_loss: 0.7129 - val_accuracy: 0.5128\n",
            "Epoch 8/15\n",
            "25000/25000 [==============================] - 257s 10ms/step - loss: 0.6367 - accuracy: 0.5453 - val_loss: 0.7230 - val_accuracy: 0.5118\n",
            "Epoch 9/15\n",
            "25000/25000 [==============================] - 260s 10ms/step - loss: 0.6411 - accuracy: 0.5502 - val_loss: 0.7243 - val_accuracy: 0.5062\n",
            "Epoch 10/15\n",
            "25000/25000 [==============================] - 258s 10ms/step - loss: 0.6359 - accuracy: 0.5451 - val_loss: 0.7377 - val_accuracy: 0.5125\n",
            "Epoch 11/15\n",
            "25000/25000 [==============================] - 257s 10ms/step - loss: 0.6304 - accuracy: 0.5535 - val_loss: 0.7321 - val_accuracy: 0.5070\n",
            "Epoch 12/15\n",
            "25000/25000 [==============================] - 257s 10ms/step - loss: 0.6278 - accuracy: 0.5536 - val_loss: 0.7237 - val_accuracy: 0.5184\n",
            "Epoch 13/15\n",
            "25000/25000 [==============================] - 257s 10ms/step - loss: 0.6295 - accuracy: 0.5513 - val_loss: 0.7241 - val_accuracy: 0.5169\n",
            "Epoch 14/15\n",
            "25000/25000 [==============================] - 257s 10ms/step - loss: 0.6315 - accuracy: 0.5579 - val_loss: 0.7432 - val_accuracy: 0.5130\n",
            "Epoch 15/15\n",
            "25000/25000 [==============================] - 257s 10ms/step - loss: 0.6276 - accuracy: 0.5584 - val_loss: 0.7436 - val_accuracy: 0.5119\n"
          ],
          "name": "stdout"
        },
        {
          "output_type": "execute_result",
          "data": {
            "text/plain": [
              "<keras.callbacks.callbacks.History at 0x7f438ffa9c88>"
            ]
          },
          "metadata": {
            "tags": []
          },
          "execution_count": 52
        }
      ]
    },
    {
      "cell_type": "code",
      "metadata": {
        "id": "2EQGnNCi1dEl",
        "colab_type": "code",
        "colab": {
          "base_uri": "https://localhost:8080/",
          "height": 51
        },
        "outputId": "081e335f-7f61-4edb-ba84-c5eb14bd862e"
      },
      "source": [
        "scores = model.evaluate(X_test,y_test)\n",
        "print('Accuracy: ',scores[1]*100)"
      ],
      "execution_count": 53,
      "outputs": [
        {
          "output_type": "stream",
          "text": [
            "25000/25000 [==============================] - 57s 2ms/step\n",
            "Accuracy:  51.19199752807617\n"
          ],
          "name": "stdout"
        }
      ]
    },
    {
      "cell_type": "code",
      "metadata": {
        "id": "1POjuroDFnHe",
        "colab_type": "code",
        "colab": {}
      },
      "source": [
        "model.save('sentimentalanalysis.h5')"
      ],
      "execution_count": 54,
      "outputs": []
    },
    {
      "cell_type": "code",
      "metadata": {
        "id": "5yXhfdI-F7tE",
        "colab_type": "code",
        "colab": {}
      },
      "source": [
        ""
      ],
      "execution_count": null,
      "outputs": []
    }
  ]
}