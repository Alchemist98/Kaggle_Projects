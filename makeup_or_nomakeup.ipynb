{
  "nbformat": 4,
  "nbformat_minor": 0,
  "metadata": {
    "colab": {
      "name": "makeup_or_nomakeup.ipynb",
      "provenance": [],
      "authorship_tag": "ABX9TyNggXOSVBsxX1uvl48C9V0O",
      "include_colab_link": true
    },
    "kernelspec": {
      "name": "python3",
      "display_name": "Python 3"
    }
  },
  "cells": [
    {
      "cell_type": "markdown",
      "metadata": {
        "id": "view-in-github",
        "colab_type": "text"
      },
      "source": [
        "<a href=\"https://colab.research.google.com/github/Alchemist98/Kaggle_Projects/blob/master/makeup_or_nomakeup.ipynb\" target=\"_parent\"><img src=\"https://colab.research.google.com/assets/colab-badge.svg\" alt=\"Open In Colab\"/></a>"
      ]
    },
    {
      "cell_type": "code",
      "metadata": {
        "id": "mucdKdNxg8CO",
        "colab_type": "code",
        "colab": {}
      },
      "source": [
        "get_ipython().system_raw(\"unrar x train.rar\")\n",
        "get_ipython().system_raw(\"unrar x test.rar\")"
      ],
      "execution_count": 0,
      "outputs": []
    },
    {
      "cell_type": "code",
      "metadata": {
        "id": "aB2wyzDTg97l",
        "colab_type": "code",
        "colab": {}
      },
      "source": [
        "import numpy as np\n",
        "import matplotlib.pyplot as plt\n",
        "import seaborn as sns\n",
        "\n",
        "import keras\n",
        "from keras.models import Sequential\n",
        "from keras.layers import Conv2D,MaxPool2D,Dense,Flatten,Dropout\n",
        "from keras.preprocessing.image import ImageDataGenerator,load_img\n",
        "import os\n",
        "from PIL import Image\n",
        "import re\n",
        "import pandas as pd"
      ],
      "execution_count": 0,
      "outputs": []
    },
    {
      "cell_type": "code",
      "metadata": {
        "id": "SnezMJ5BiBXv",
        "colab_type": "code",
        "colab": {}
      },
      "source": [
        "TRAIN_FOLDER = '/content/train'"
      ],
      "execution_count": 0,
      "outputs": []
    },
    {
      "cell_type": "code",
      "metadata": {
        "id": "4ZDqIjluiMi5",
        "colab_type": "code",
        "colab": {}
      },
      "source": [
        "TEST_FOLDER = '/content/test'"
      ],
      "execution_count": 0,
      "outputs": []
    },
    {
      "cell_type": "code",
      "metadata": {
        "id": "eKvR0l50jqL-",
        "colab_type": "code",
        "colab": {}
      },
      "source": [
        "train_images = []\n",
        "\n",
        "for image in os.listdir(TRAIN_FOLDER):\n",
        "  train_images.append(image)"
      ],
      "execution_count": 0,
      "outputs": []
    },
    {
      "cell_type": "code",
      "metadata": {
        "id": "ciq1jGhzj-LJ",
        "colab_type": "code",
        "colab": {}
      },
      "source": [
        "#train_images"
      ],
      "execution_count": 0,
      "outputs": []
    },
    {
      "cell_type": "code",
      "metadata": {
        "id": "vzQ9QFYckZ5d",
        "colab_type": "code",
        "outputId": "cb7d7711-3c46-49d6-f4a9-dcfd005a580e",
        "colab": {
          "base_uri": "https://localhost:8080/",
          "height": 34
        }
      },
      "source": [
        "TEST_FOLDER"
      ],
      "execution_count": 151,
      "outputs": [
        {
          "output_type": "execute_result",
          "data": {
            "text/plain": [
              "'/content/test'"
            ]
          },
          "metadata": {
            "tags": []
          },
          "execution_count": 151
        }
      ]
    },
    {
      "cell_type": "code",
      "metadata": {
        "id": "rrzwVJi9ksRP",
        "colab_type": "code",
        "colab": {}
      },
      "source": [
        "test_images = []\n",
        "\n",
        "for image in os.listdir(TEST_FOLDER):\n",
        "  test_images.append(image)\n"
      ],
      "execution_count": 0,
      "outputs": []
    },
    {
      "cell_type": "code",
      "metadata": {
        "id": "5ByNMt5wlJh0",
        "colab_type": "code",
        "colab": {}
      },
      "source": [
        "#test_images"
      ],
      "execution_count": 0,
      "outputs": []
    },
    {
      "cell_type": "code",
      "metadata": {
        "id": "O71KYyGXpBI3",
        "colab_type": "code",
        "outputId": "d56acf6f-278e-443b-9aa6-cbfd6d7a4fec",
        "colab": {
          "base_uri": "https://localhost:8080/",
          "height": 34
        }
      },
      "source": [
        "train_images[0].split('.')[0]"
      ],
      "execution_count": 154,
      "outputs": [
        {
          "output_type": "execute_result",
          "data": {
            "text/plain": [
              "'no_makeup275'"
            ]
          },
          "metadata": {
            "tags": []
          },
          "execution_count": 154
        }
      ]
    },
    {
      "cell_type": "code",
      "metadata": {
        "id": "SpQGHAgxpBMa",
        "colab_type": "code",
        "colab": {}
      },
      "source": [
        "test_str = 'no_makeup275'\n",
        "\n",
        "res = [re.findall(r'(\\w+?)(\\d+)', test_str)[0]]\n",
        "#test_str[0]"
      ],
      "execution_count": 0,
      "outputs": []
    },
    {
      "cell_type": "code",
      "metadata": {
        "id": "5CtjqbJrrfnu",
        "colab_type": "code",
        "outputId": "5a73eccd-5ebb-4bc8-cdb3-bd4e9f90e781",
        "colab": {
          "base_uri": "https://localhost:8080/",
          "height": 34
        }
      },
      "source": [
        "res"
      ],
      "execution_count": 156,
      "outputs": [
        {
          "output_type": "execute_result",
          "data": {
            "text/plain": [
              "[('no_makeup', '275')]"
            ]
          },
          "metadata": {
            "tags": []
          },
          "execution_count": 156
        }
      ]
    },
    {
      "cell_type": "code",
      "metadata": {
        "id": "8yk7NI1asLee",
        "colab_type": "code",
        "outputId": "edcfb5c1-c4a8-4008-dbae-d1c8f8e8498c",
        "colab": {
          "base_uri": "https://localhost:8080/",
          "height": 34
        }
      },
      "source": [
        "res[0][0]"
      ],
      "execution_count": 157,
      "outputs": [
        {
          "output_type": "execute_result",
          "data": {
            "text/plain": [
              "'no_makeup'"
            ]
          },
          "metadata": {
            "tags": []
          },
          "execution_count": 157
        }
      ]
    },
    {
      "cell_type": "code",
      "metadata": {
        "id": "oOe9XeWtvs4x",
        "colab_type": "code",
        "colab": {}
      },
      "source": [
        "labels = []\n",
        "\n",
        "for i in range(len(train_images)):\n",
        "  images = train_images[i].split('.')[0]\n",
        "\n",
        "  res = [re.findall(r'(\\w+?)(\\d+)', images)[0]]\n",
        "\n",
        "  img = res[0][0]\n",
        "\n",
        "  if img == 'makeup':\n",
        "    labels.append('Yes')\n",
        "  elif img == 'no_makeup':\n",
        "    labels.append('No')"
      ],
      "execution_count": 0,
      "outputs": []
    },
    {
      "cell_type": "code",
      "metadata": {
        "id": "AT_ftYbOwYrP",
        "colab_type": "code",
        "colab": {}
      },
      "source": [
        "train_df = pd.DataFrame({\n",
        "    'image_type':train_images,\n",
        "    'label':labels\n",
        "})"
      ],
      "execution_count": 0,
      "outputs": []
    },
    {
      "cell_type": "code",
      "metadata": {
        "id": "z3nQ1SSbwZlk",
        "colab_type": "code",
        "outputId": "1737dbb5-7553-4ac4-f311-d18950206341",
        "colab": {
          "base_uri": "https://localhost:8080/",
          "height": 419
        }
      },
      "source": [
        "train_df"
      ],
      "execution_count": 182,
      "outputs": [
        {
          "output_type": "execute_result",
          "data": {
            "text/html": [
              "<div>\n",
              "<style scoped>\n",
              "    .dataframe tbody tr th:only-of-type {\n",
              "        vertical-align: middle;\n",
              "    }\n",
              "\n",
              "    .dataframe tbody tr th {\n",
              "        vertical-align: top;\n",
              "    }\n",
              "\n",
              "    .dataframe thead th {\n",
              "        text-align: right;\n",
              "    }\n",
              "</style>\n",
              "<table border=\"1\" class=\"dataframe\">\n",
              "  <thead>\n",
              "    <tr style=\"text-align: right;\">\n",
              "      <th></th>\n",
              "      <th>image_type</th>\n",
              "      <th>label</th>\n",
              "    </tr>\n",
              "  </thead>\n",
              "  <tbody>\n",
              "    <tr>\n",
              "      <th>0</th>\n",
              "      <td>no_makeup275.jpeg</td>\n",
              "      <td>No</td>\n",
              "    </tr>\n",
              "    <tr>\n",
              "      <th>1</th>\n",
              "      <td>no_makeup507.jpeg</td>\n",
              "      <td>No</td>\n",
              "    </tr>\n",
              "    <tr>\n",
              "      <th>2</th>\n",
              "      <td>makeup503.jpeg</td>\n",
              "      <td>Yes</td>\n",
              "    </tr>\n",
              "    <tr>\n",
              "      <th>3</th>\n",
              "      <td>makeup591.jpeg</td>\n",
              "      <td>Yes</td>\n",
              "    </tr>\n",
              "    <tr>\n",
              "      <th>4</th>\n",
              "      <td>makeup95.jpeg</td>\n",
              "      <td>Yes</td>\n",
              "    </tr>\n",
              "    <tr>\n",
              "      <th>...</th>\n",
              "      <td>...</td>\n",
              "      <td>...</td>\n",
              "    </tr>\n",
              "    <tr>\n",
              "      <th>795</th>\n",
              "      <td>makeup691.jpeg</td>\n",
              "      <td>Yes</td>\n",
              "    </tr>\n",
              "    <tr>\n",
              "      <th>796</th>\n",
              "      <td>makeup339.jpeg</td>\n",
              "      <td>Yes</td>\n",
              "    </tr>\n",
              "    <tr>\n",
              "      <th>797</th>\n",
              "      <td>no_makeup519.jpeg</td>\n",
              "      <td>No</td>\n",
              "    </tr>\n",
              "    <tr>\n",
              "      <th>798</th>\n",
              "      <td>makeup410.jpeg</td>\n",
              "      <td>Yes</td>\n",
              "    </tr>\n",
              "    <tr>\n",
              "      <th>799</th>\n",
              "      <td>no_makeup174.jpeg</td>\n",
              "      <td>No</td>\n",
              "    </tr>\n",
              "  </tbody>\n",
              "</table>\n",
              "<p>800 rows × 2 columns</p>\n",
              "</div>"
            ],
            "text/plain": [
              "            image_type label\n",
              "0    no_makeup275.jpeg    No\n",
              "1    no_makeup507.jpeg    No\n",
              "2       makeup503.jpeg   Yes\n",
              "3       makeup591.jpeg   Yes\n",
              "4        makeup95.jpeg   Yes\n",
              "..                 ...   ...\n",
              "795     makeup691.jpeg   Yes\n",
              "796     makeup339.jpeg   Yes\n",
              "797  no_makeup519.jpeg    No\n",
              "798     makeup410.jpeg   Yes\n",
              "799  no_makeup174.jpeg    No\n",
              "\n",
              "[800 rows x 2 columns]"
            ]
          },
          "metadata": {
            "tags": []
          },
          "execution_count": 182
        }
      ]
    },
    {
      "cell_type": "code",
      "metadata": {
        "id": "yWRRkD0axh1n",
        "colab_type": "code",
        "outputId": "1d57d9b7-1741-4dfd-d28b-967656ba5349",
        "colab": {
          "base_uri": "https://localhost:8080/",
          "height": 68
        }
      },
      "source": [
        "train_df['label'].value_counts()"
      ],
      "execution_count": 183,
      "outputs": [
        {
          "output_type": "execute_result",
          "data": {
            "text/plain": [
              "Yes    600\n",
              "No     200\n",
              "Name: label, dtype: int64"
            ]
          },
          "metadata": {
            "tags": []
          },
          "execution_count": 183
        }
      ]
    },
    {
      "cell_type": "code",
      "metadata": {
        "id": "fLoTNWdyxiGQ",
        "colab_type": "code",
        "colab": {}
      },
      "source": [
        "labels1 = []\n",
        "\n",
        "for i in range(len(test_images)):\n",
        "  images = test_images[i].split('.')[0]\n",
        "\n",
        "  res = [re.findall(r'(\\w+?)(\\d+)', images)[0]]\n",
        "\n",
        "  img = res[0][0]\n",
        "\n",
        "  if img == 'makeup':\n",
        "    labels1.append('Yes')\n",
        "  elif img == 'no_makeup':\n",
        "    labels1.append('No')"
      ],
      "execution_count": 0,
      "outputs": []
    },
    {
      "cell_type": "code",
      "metadata": {
        "id": "qgnmXbBUxiCs",
        "colab_type": "code",
        "colab": {}
      },
      "source": [
        "test_df = pd.DataFrame({\n",
        "    'image_type':test_images,\n",
        "    'label':labels1\n",
        "})"
      ],
      "execution_count": 0,
      "outputs": []
    },
    {
      "cell_type": "code",
      "metadata": {
        "id": "bY3aEJscxiAi",
        "colab_type": "code",
        "outputId": "86fa99ae-7e67-425e-e84e-373fc94506ce",
        "colab": {
          "base_uri": "https://localhost:8080/",
          "height": 359
        }
      },
      "source": [
        "test_df.head(10)"
      ],
      "execution_count": 187,
      "outputs": [
        {
          "output_type": "execute_result",
          "data": {
            "text/html": [
              "<div>\n",
              "<style scoped>\n",
              "    .dataframe tbody tr th:only-of-type {\n",
              "        vertical-align: middle;\n",
              "    }\n",
              "\n",
              "    .dataframe tbody tr th {\n",
              "        vertical-align: top;\n",
              "    }\n",
              "\n",
              "    .dataframe thead th {\n",
              "        text-align: right;\n",
              "    }\n",
              "</style>\n",
              "<table border=\"1\" class=\"dataframe\">\n",
              "  <thead>\n",
              "    <tr style=\"text-align: right;\">\n",
              "      <th></th>\n",
              "      <th>image_type</th>\n",
              "      <th>label</th>\n",
              "    </tr>\n",
              "  </thead>\n",
              "  <tbody>\n",
              "    <tr>\n",
              "      <th>0</th>\n",
              "      <td>makeup946.jpeg</td>\n",
              "      <td>Yes</td>\n",
              "    </tr>\n",
              "    <tr>\n",
              "      <th>1</th>\n",
              "      <td>no_makeup637.jpeg</td>\n",
              "      <td>No</td>\n",
              "    </tr>\n",
              "    <tr>\n",
              "      <th>2</th>\n",
              "      <td>no_makeup173.jpeg</td>\n",
              "      <td>No</td>\n",
              "    </tr>\n",
              "    <tr>\n",
              "      <th>3</th>\n",
              "      <td>makeup910.jpeg</td>\n",
              "      <td>Yes</td>\n",
              "    </tr>\n",
              "    <tr>\n",
              "      <th>4</th>\n",
              "      <td>makeup943.jpeg</td>\n",
              "      <td>Yes</td>\n",
              "    </tr>\n",
              "    <tr>\n",
              "      <th>5</th>\n",
              "      <td>makeup881.jpeg</td>\n",
              "      <td>Yes</td>\n",
              "    </tr>\n",
              "    <tr>\n",
              "      <th>6</th>\n",
              "      <td>makeup977.jpeg</td>\n",
              "      <td>Yes</td>\n",
              "    </tr>\n",
              "    <tr>\n",
              "      <th>7</th>\n",
              "      <td>makeup828.jpeg</td>\n",
              "      <td>Yes</td>\n",
              "    </tr>\n",
              "    <tr>\n",
              "      <th>8</th>\n",
              "      <td>makeup805.jpeg</td>\n",
              "      <td>Yes</td>\n",
              "    </tr>\n",
              "    <tr>\n",
              "      <th>9</th>\n",
              "      <td>makeup809.jpeg</td>\n",
              "      <td>Yes</td>\n",
              "    </tr>\n",
              "  </tbody>\n",
              "</table>\n",
              "</div>"
            ],
            "text/plain": [
              "          image_type label\n",
              "0     makeup946.jpeg   Yes\n",
              "1  no_makeup637.jpeg    No\n",
              "2  no_makeup173.jpeg    No\n",
              "3     makeup910.jpeg   Yes\n",
              "4     makeup943.jpeg   Yes\n",
              "5     makeup881.jpeg   Yes\n",
              "6     makeup977.jpeg   Yes\n",
              "7     makeup828.jpeg   Yes\n",
              "8     makeup805.jpeg   Yes\n",
              "9     makeup809.jpeg   Yes"
            ]
          },
          "metadata": {
            "tags": []
          },
          "execution_count": 187
        }
      ]
    },
    {
      "cell_type": "code",
      "metadata": {
        "id": "fKYhL9Hjxh-d",
        "colab_type": "code",
        "outputId": "50ad1142-ee28-4f81-d8ca-a393eca19b5b",
        "colab": {
          "base_uri": "https://localhost:8080/",
          "height": 119
        }
      },
      "source": [
        "sample_train_imgs = list(os.walk(TRAIN_FOLDER))[0][2][:6]\n",
        "sample_train_imgs"
      ],
      "execution_count": 188,
      "outputs": [
        {
          "output_type": "execute_result",
          "data": {
            "text/plain": [
              "['no_makeup275.jpeg',\n",
              " 'no_makeup507.jpeg',\n",
              " 'makeup503.jpeg',\n",
              " 'makeup591.jpeg',\n",
              " 'makeup95.jpeg',\n",
              " 'makeup306.jpeg']"
            ]
          },
          "metadata": {
            "tags": []
          },
          "execution_count": 188
        }
      ]
    },
    {
      "cell_type": "code",
      "metadata": {
        "id": "cIEJe0JSxh8z",
        "colab_type": "code",
        "colab": {}
      },
      "source": [
        "sample_train_imgs = list(map(lambda x: os.path.join(TRAIN_FOLDER, x), sample_train_imgs))"
      ],
      "execution_count": 0,
      "outputs": []
    },
    {
      "cell_type": "code",
      "metadata": {
        "id": "CeQZ0FBUxh7G",
        "colab_type": "code",
        "colab": {
          "base_uri": "https://localhost:8080/",
          "height": 34
        },
        "outputId": "48821058-2b29-4c0e-afdf-cec1295acf46"
      },
      "source": [
        "plt.figure(figsize=(20,20))\n",
        "\n",
        "for i in range(len(sample_train_imgs)):\n",
        "  image = Image.open(sample_train_imgs[i])\n",
        "  "
      ],
      "execution_count": 190,
      "outputs": [
        {
          "output_type": "display_data",
          "data": {
            "text/plain": [
              "<Figure size 1440x1440 with 0 Axes>"
            ]
          },
          "metadata": {
            "tags": []
          }
        }
      ]
    },
    {
      "cell_type": "code",
      "metadata": {
        "id": "KmAMvqaCxh42",
        "colab_type": "code",
        "colab": {}
      },
      "source": [
        "train_image_generator = ImageDataGenerator(\n",
        "    rescale=1./255,\n",
        "    featurewise_center=True,\n",
        "    featurewise_std_normalization=True,\n",
        "    rotation_range=90,\n",
        "    width_shift_range=0.15,\n",
        "    height_shift_range=0.15,\n",
        "    horizontal_flip=True,\n",
        "    zoom_range=[0.9, 1.25],\n",
        "    brightness_range=[0.5, 1.5]\n",
        ")\n",
        "\n",
        "test_image_generator = ImageDataGenerator(\n",
        "    rescale=1./255\n",
        ")"
      ],
      "execution_count": 0,
      "outputs": []
    },
    {
      "cell_type": "code",
      "metadata": {
        "id": "bU8E3_xn3x0S",
        "colab_type": "code",
        "colab": {
          "base_uri": "https://localhost:8080/",
          "height": 376
        },
        "outputId": "287514e7-28c5-41d5-e0e0-eb78b6033bd8"
      },
      "source": [
        "from sklearn.utils import shuffle \n",
        "train_df = shuffle(train_df, random_state=1)\n",
        "\n",
        "validation_df = train_df.iloc[600:, :]\n",
        "train_df = train_df.iloc[:600, :]\n",
        "\n",
        "print(f\"Final train data shape : {train_df.shape}\")\n",
        "train_df.sample(10)"
      ],
      "execution_count": 192,
      "outputs": [
        {
          "output_type": "stream",
          "text": [
            "Final train data shape : (600, 2)\n"
          ],
          "name": "stdout"
        },
        {
          "output_type": "execute_result",
          "data": {
            "text/html": [
              "<div>\n",
              "<style scoped>\n",
              "    .dataframe tbody tr th:only-of-type {\n",
              "        vertical-align: middle;\n",
              "    }\n",
              "\n",
              "    .dataframe tbody tr th {\n",
              "        vertical-align: top;\n",
              "    }\n",
              "\n",
              "    .dataframe thead th {\n",
              "        text-align: right;\n",
              "    }\n",
              "</style>\n",
              "<table border=\"1\" class=\"dataframe\">\n",
              "  <thead>\n",
              "    <tr style=\"text-align: right;\">\n",
              "      <th></th>\n",
              "      <th>image_type</th>\n",
              "      <th>label</th>\n",
              "    </tr>\n",
              "  </thead>\n",
              "  <tbody>\n",
              "    <tr>\n",
              "      <th>510</th>\n",
              "      <td>makeup540.jpeg</td>\n",
              "      <td>Yes</td>\n",
              "    </tr>\n",
              "    <tr>\n",
              "      <th>437</th>\n",
              "      <td>makeup74.jpeg</td>\n",
              "      <td>Yes</td>\n",
              "    </tr>\n",
              "    <tr>\n",
              "      <th>577</th>\n",
              "      <td>makeup453.jpeg</td>\n",
              "      <td>Yes</td>\n",
              "    </tr>\n",
              "    <tr>\n",
              "      <th>578</th>\n",
              "      <td>makeup284.jpeg</td>\n",
              "      <td>Yes</td>\n",
              "    </tr>\n",
              "    <tr>\n",
              "      <th>320</th>\n",
              "      <td>makeup771.jpeg</td>\n",
              "      <td>Yes</td>\n",
              "    </tr>\n",
              "    <tr>\n",
              "      <th>185</th>\n",
              "      <td>makeup309.jpeg</td>\n",
              "      <td>Yes</td>\n",
              "    </tr>\n",
              "    <tr>\n",
              "      <th>0</th>\n",
              "      <td>no_makeup275.jpeg</td>\n",
              "      <td>No</td>\n",
              "    </tr>\n",
              "    <tr>\n",
              "      <th>95</th>\n",
              "      <td>makeup76.jpeg</td>\n",
              "      <td>Yes</td>\n",
              "    </tr>\n",
              "    <tr>\n",
              "      <th>374</th>\n",
              "      <td>makeup233.jpeg</td>\n",
              "      <td>Yes</td>\n",
              "    </tr>\n",
              "    <tr>\n",
              "      <th>590</th>\n",
              "      <td>makeup337.jpeg</td>\n",
              "      <td>Yes</td>\n",
              "    </tr>\n",
              "  </tbody>\n",
              "</table>\n",
              "</div>"
            ],
            "text/plain": [
              "            image_type label\n",
              "510     makeup540.jpeg   Yes\n",
              "437      makeup74.jpeg   Yes\n",
              "577     makeup453.jpeg   Yes\n",
              "578     makeup284.jpeg   Yes\n",
              "320     makeup771.jpeg   Yes\n",
              "185     makeup309.jpeg   Yes\n",
              "0    no_makeup275.jpeg    No\n",
              "95       makeup76.jpeg   Yes\n",
              "374     makeup233.jpeg   Yes\n",
              "590     makeup337.jpeg   Yes"
            ]
          },
          "metadata": {
            "tags": []
          },
          "execution_count": 192
        }
      ]
    },
    {
      "cell_type": "code",
      "metadata": {
        "id": "TUtxnv4mxhzv",
        "colab_type": "code",
        "colab": {
          "base_uri": "https://localhost:8080/",
          "height": 68
        },
        "outputId": "3ab4aee6-339d-491d-f7e1-12717a5f56e4"
      },
      "source": [
        "train_generator = train_image_generator.flow_from_dataframe(\n",
        "    dataframe=train_df,\n",
        "    directory=TRAIN_FOLDER,\n",
        "    x_col='image_type',\n",
        "    y_col='label',\n",
        "    target_size=(224, 224),\n",
        "    batch_size=8,\n",
        "    seed=2020,\n",
        "    shuffle=True,\n",
        "    class_mode='binary'\n",
        ")\n",
        "\n",
        "\n",
        "validation_generator = train_image_generator.flow_from_dataframe(\n",
        "    dataframe=validation_df,\n",
        "    directory=TRAIN_FOLDER,\n",
        "    x_col='image_type',\n",
        "    y_col='label',\n",
        "    target_size=(224, 224),\n",
        "    batch_size=8,\n",
        "    seed=2020,\n",
        "    shuffle=True,\n",
        "    class_mode='binary'\n",
        ")\n",
        "\n",
        "test_generator = test_image_generator.flow_from_dataframe(\n",
        "    dataframe=test_df,\n",
        "    directory=TEST_FOLDER,\n",
        "    x_col='image_type',\n",
        "    y_col='label',\n",
        "    target_size=(224, 224),\n",
        "    shuffle=False,\n",
        "    batch_size=16,\n",
        "    class_mode='binary'\n",
        ")"
      ],
      "execution_count": 209,
      "outputs": [
        {
          "output_type": "stream",
          "text": [
            "Found 600 validated image filenames belonging to 2 classes.\n",
            "Found 200 validated image filenames belonging to 2 classes.\n",
            "Found 200 validated image filenames belonging to 2 classes.\n"
          ],
          "name": "stdout"
        }
      ]
    },
    {
      "cell_type": "code",
      "metadata": {
        "id": "T520GpljxKpJ",
        "colab_type": "code",
        "colab": {}
      },
      "source": [
        "model = Sequential()"
      ],
      "execution_count": 0,
      "outputs": []
    },
    {
      "cell_type": "code",
      "metadata": {
        "id": "mS-OL7X06sHD",
        "colab_type": "code",
        "colab": {}
      },
      "source": [
        ""
      ],
      "execution_count": 0,
      "outputs": []
    },
    {
      "cell_type": "markdown",
      "metadata": {
        "id": "Om5cMNQW6tC_",
        "colab_type": "text"
      },
      "source": [
        "BASIC CNN MODEL"
      ]
    },
    {
      "cell_type": "code",
      "metadata": {
        "id": "2zQnFtm96m5t",
        "colab_type": "code",
        "colab": {}
      },
      "source": [
        "model.add(Conv2D(64,(3,3),input_shape=(224,224,3),activation='relu'))\n",
        "model.add(MaxPool2D((3,3)))\n",
        "model.add(Conv2D(128,(3,3),activation='relu'))\n",
        "model.add(MaxPool2D((3,3)))\n",
        "model.add(Conv2D(128,(3,3),activation='relu'))\n",
        "model.add(MaxPool2D((3,3)))"
      ],
      "execution_count": 0,
      "outputs": []
    },
    {
      "cell_type": "code",
      "metadata": {
        "id": "1xM7Itzn7i2z",
        "colab_type": "code",
        "colab": {}
      },
      "source": [
        "model.add(Flatten())"
      ],
      "execution_count": 0,
      "outputs": []
    },
    {
      "cell_type": "code",
      "metadata": {
        "id": "im31aiiq7lFS",
        "colab_type": "code",
        "colab": {}
      },
      "source": [
        "model.add(Dense(128,activation='relu'))\n",
        "model.add(Dropout(0.4))\n",
        "model.add(Dense(32,activation='relu'))\n",
        "model.add(Dropout(0.4))\n",
        "model.add(Dense(1,activation='sigmoid'))"
      ],
      "execution_count": 0,
      "outputs": []
    },
    {
      "cell_type": "code",
      "metadata": {
        "id": "fTLrii5d7n6c",
        "colab_type": "code",
        "colab": {}
      },
      "source": [
        "model.compile(optimizer='adam', loss='binary_crossentropy',\n",
        "             metrics=['accuracy'])"
      ],
      "execution_count": 0,
      "outputs": []
    },
    {
      "cell_type": "code",
      "metadata": {
        "id": "ZSIjptl97qZm",
        "colab_type": "code",
        "colab": {
          "base_uri": "https://localhost:8080/",
          "height": 561
        },
        "outputId": "91c01c62-14cd-4e3a-e92d-9dc481ad520b"
      },
      "source": [
        "model.summary()"
      ],
      "execution_count": 215,
      "outputs": [
        {
          "output_type": "stream",
          "text": [
            "Model: \"sequential_2\"\n",
            "_________________________________________________________________\n",
            "Layer (type)                 Output Shape              Param #   \n",
            "=================================================================\n",
            "conv2d_4 (Conv2D)            (None, 222, 222, 64)      1792      \n",
            "_________________________________________________________________\n",
            "max_pooling2d_4 (MaxPooling2 (None, 74, 74, 64)        0         \n",
            "_________________________________________________________________\n",
            "conv2d_5 (Conv2D)            (None, 72, 72, 128)       73856     \n",
            "_________________________________________________________________\n",
            "max_pooling2d_5 (MaxPooling2 (None, 24, 24, 128)       0         \n",
            "_________________________________________________________________\n",
            "conv2d_6 (Conv2D)            (None, 22, 22, 128)       147584    \n",
            "_________________________________________________________________\n",
            "max_pooling2d_6 (MaxPooling2 (None, 7, 7, 128)         0         \n",
            "_________________________________________________________________\n",
            "flatten_2 (Flatten)          (None, 6272)              0         \n",
            "_________________________________________________________________\n",
            "dense_4 (Dense)              (None, 128)               802944    \n",
            "_________________________________________________________________\n",
            "dropout_3 (Dropout)          (None, 128)               0         \n",
            "_________________________________________________________________\n",
            "dense_5 (Dense)              (None, 32)                4128      \n",
            "_________________________________________________________________\n",
            "dropout_4 (Dropout)          (None, 32)                0         \n",
            "_________________________________________________________________\n",
            "dense_6 (Dense)              (None, 1)                 33        \n",
            "=================================================================\n",
            "Total params: 1,030,337\n",
            "Trainable params: 1,030,337\n",
            "Non-trainable params: 0\n",
            "_________________________________________________________________\n"
          ],
          "name": "stdout"
        }
      ]
    },
    {
      "cell_type": "code",
      "metadata": {
        "id": "DHGZHumi7tAe",
        "colab_type": "code",
        "colab": {
          "base_uri": "https://localhost:8080/",
          "height": 445
        },
        "outputId": "8aec1f42-d4a7-4ed5-f0da-3b292f721c87"
      },
      "source": [
        "history = model.fit_generator(train_generator,validation_data=validation_generator,epochs=10)"
      ],
      "execution_count": 216,
      "outputs": [
        {
          "output_type": "stream",
          "text": [
            "Epoch 1/10\n"
          ],
          "name": "stdout"
        },
        {
          "output_type": "stream",
          "text": [
            "/usr/local/lib/python3.6/dist-packages/keras_preprocessing/image/image_data_generator.py:716: UserWarning: This ImageDataGenerator specifies `featurewise_center`, but it hasn't been fit on any training data. Fit it first by calling `.fit(numpy_data)`.\n",
            "  warnings.warn('This ImageDataGenerator specifies '\n",
            "/usr/local/lib/python3.6/dist-packages/keras_preprocessing/image/image_data_generator.py:724: UserWarning: This ImageDataGenerator specifies `featurewise_std_normalization`, but it hasn't been fit on any training data. Fit it first by calling `.fit(numpy_data)`.\n",
            "  warnings.warn('This ImageDataGenerator specifies '\n"
          ],
          "name": "stderr"
        },
        {
          "output_type": "stream",
          "text": [
            "75/75 [==============================] - 71s 946ms/step - loss: 0.6795 - accuracy: 0.7100 - val_loss: 0.5566 - val_accuracy: 0.7850\n",
            "Epoch 2/10\n",
            "75/75 [==============================] - 69s 918ms/step - loss: 0.6130 - accuracy: 0.7383 - val_loss: 0.3656 - val_accuracy: 0.7850\n",
            "Epoch 3/10\n",
            "75/75 [==============================] - 69s 915ms/step - loss: 0.5784 - accuracy: 0.7383 - val_loss: 0.5759 - val_accuracy: 0.7850\n",
            "Epoch 4/10\n",
            "75/75 [==============================] - 69s 914ms/step - loss: 0.5873 - accuracy: 0.7367 - val_loss: 0.5471 - val_accuracy: 0.7850\n",
            "Epoch 5/10\n",
            "75/75 [==============================] - 68s 913ms/step - loss: 0.5777 - accuracy: 0.7400 - val_loss: 0.5350 - val_accuracy: 0.7850\n",
            "Epoch 6/10\n",
            "75/75 [==============================] - 69s 918ms/step - loss: 0.5973 - accuracy: 0.7383 - val_loss: 0.5585 - val_accuracy: 0.7850\n",
            "Epoch 7/10\n",
            "75/75 [==============================] - 69s 918ms/step - loss: 0.5795 - accuracy: 0.7383 - val_loss: 0.7312 - val_accuracy: 0.7850\n",
            "Epoch 8/10\n",
            "75/75 [==============================] - 75s 999ms/step - loss: 0.5842 - accuracy: 0.7383 - val_loss: 0.5759 - val_accuracy: 0.7850\n",
            "Epoch 9/10\n",
            "75/75 [==============================] - 68s 910ms/step - loss: 0.5818 - accuracy: 0.7383 - val_loss: 0.5058 - val_accuracy: 0.7850\n",
            "Epoch 10/10\n",
            "75/75 [==============================] - 68s 907ms/step - loss: 0.5771 - accuracy: 0.7383 - val_loss: 0.4322 - val_accuracy: 0.7850\n"
          ],
          "name": "stdout"
        }
      ]
    },
    {
      "cell_type": "code",
      "metadata": {
        "id": "SRqk8f1v71wP",
        "colab_type": "code",
        "colab": {
          "base_uri": "https://localhost:8080/",
          "height": 663
        },
        "outputId": "3ec09c15-467b-4b4e-8425-e96d6e0f4268"
      },
      "source": [
        "plt.style.use('dark_background')\n",
        "fig, ax = plt.subplots(2, 2, figsize=(10, 10))\n",
        "sns.lineplot(x=np.arange(1, 11), y=history.history.get('loss'), ax=ax[0, 0])\n",
        "sns.lineplot(x=np.arange(1, 11), y=history.history.get('accuracy'), ax=ax[0, 1])\n",
        "sns.lineplot(x=np.arange(1, 11), y=history.history.get('val_loss'), ax=ax[1, 0])\n",
        "sns.lineplot(x=np.arange(1, 11), y=history.history.get('val_accuracy'), ax=ax[1, 1])\n",
        "ax[0, 0].set_title('Training Loss vs Epochs')\n",
        "ax[0, 1].set_title('Training Accuracy vs Epochs')\n",
        "ax[1, 0].set_title('Validation Loss vs Epochs')\n",
        "ax[1, 1].set_title('Validation Accuracy vs Epochs')\n",
        "fig.suptitle('Basic CNN model', size=16)\n",
        "plt.show()"
      ],
      "execution_count": 218,
      "outputs": [
        {
          "output_type": "display_data",
          "data": {
            "image/png": "[encoded data removed]",
            "text/plain": [
              "<Figure size 720x720 with 4 Axes>"
            ]
          },
          "metadata": {
            "tags": []
          }
        }
      ]
    },
    {
      "cell_type": "code",
      "metadata": {
        "id": "G5JIjKiX-tEW",
        "colab_type": "code",
        "colab": {}
      },
      "source": [
        "test_acc = model.evaluate_generator(test_generator,500)"
      ],
      "execution_count": 0,
      "outputs": []
    },
    {
      "cell_type": "code",
      "metadata": {
        "id": "F9eBdcZ2_fad",
        "colab_type": "code",
        "colab": {
          "base_uri": "https://localhost:8080/",
          "height": 34
        },
        "outputId": "55c19780-1ae9-4012-cf8e-ac4f66adaf68"
      },
      "source": [
        "print('The testing accuracy is :',test_acc[1]*100, '%')"
      ],
      "execution_count": 224,
      "outputs": [
        {
          "output_type": "stream",
          "text": [
            "The testing accuracy is : 75.02598762512207 %\n"
          ],
          "name": "stdout"
        }
      ]
    },
    {
      "cell_type": "code",
      "metadata": {
        "id": "ZO9zUQJHGCt8",
        "colab_type": "code",
        "colab": {}
      },
      "source": [
        ""
      ],
      "execution_count": 0,
      "outputs": []
    }
  ]
}